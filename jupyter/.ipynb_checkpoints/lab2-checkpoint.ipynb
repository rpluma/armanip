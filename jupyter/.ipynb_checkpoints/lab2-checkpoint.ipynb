{
 "cells": [
  {
   "cell_type": "markdown",
   "id": "4d041dd1-dcf5-4130-9bfd-c2407982b1d5",
   "metadata": {},
   "source": [
    "# Lab 2: Manipulator dynamics simulation"
   ]
  },
  {
   "cell_type": "markdown",
   "id": "bfc0a6ef-3f0f-4fc5-bcaf-85c7cffc640b",
   "metadata": {},
   "source": [
    "## Setup ROS 2"
   ]
  },
  {
   "cell_type": "markdown",
   "id": "a576aaa8-fea8-461c-98e3-5a917b5cc986",
   "metadata": {},
   "source": [
    "## Install UMA manipulator package"
   ]
  },
  {
   "cell_type": "markdown",
   "id": "952900e9-f3ce-4661-bf09-3a9641f482cc",
   "metadata": {},
   "source": [
    "## Simulate the robot dynamics"
   ]
  },
  {
   "cell_type": "markdown",
   "id": "29f8e7b4-096b-4f3e-b4e1-38868bc4da7e",
   "metadata": {},
   "source": [
    "### Dynamics model\n",
    "\n",
    "Given:\n",
    "\n",
    "- $q, \\dot q, \\ddot q$: vectors of joint positions, velocities and accelerations\n",
    "- $M(q)$: intertia matrix\n",
    "- $C(q, \\dot q)$: Coriolis and centrifugal forces matrix\n",
    "- $F_b$: viscous friction matrix\n",
    "- $g$: gravity vector\n",
    "- $\\tau$: commaned join torques\n",
    "- $\\tau_{ext}$: torques due to external forces\n",
    "\n",
    "$$M(q)\\ddot q + C(q, \\dot q)\\dot q + F_b \\dot q + g(q) = \\tau + \\tau_{ext} \\tag 1$$\n",
    "\n",
    "\n",
    "$$\\ddot q = M^{-1}(q)[\\tau + \\tau_{ext} - C(q, \\dot q)\\dot q - F_b \\dot q - g(q)] \\tag 2$$"
   ]
  },
  {
   "cell_type": "markdown",
   "id": "fb0a6da3-689c-4650-87ca-01432ab20640",
   "metadata": {},
   "source": [
    "```C++\n",
    "// Calculate joint acceleration using the dynamic model: M * q_ddot = torque - C * q_dot - Fb * joint_velocities_ - g + tau_ext\n",
    "Eigen::VectorXd q_ddot(2);\n",
    "q_ddot << M.inverse() * (joint_torques_ - C - Fb * joint_velocities_ - g_vec + tau_ext);\n",
    "\n",
    "// Modelo enunciado   : M * q_ddot = torque - C * q_dot - Fb * joint_velocities_ - g + tau_ext\n",
    "// Agrupar taus       : M * q_ddot = torque + tau_ext - C * q_dot - Fb * joint_velocities_ - g \n",
    "// Factor común q_dot : M * q_ddot = torque + tau_ext - (C + Fb ) * joint_velocities_ - g \n",
    "// Despejar q_ddot    : q_ddot = M.inverse (torque + tau_ext - (C + Fb ) * joint_velocities_ - g)\n",
    "q_ddot << M.inverse() * (joint_torques_ + tau_ext - (C + Fb) * joint_velocities_ - g_vec );\n",
    "```"
   ]
  },
  {
   "cell_type": "markdown",
   "id": "097ac86d-d74e-4b3d-a0de-0ac87de5c034",
   "metadata": {},
   "source": []
  },
  {
   "cell_type": "markdown",
   "id": "83d3f618-bd24-47f2-b118-7d952b37adb5",
   "metadata": {},
   "source": []
  },
  {
   "cell_type": "markdown",
   "id": "c2035813-eb53-424a-94be-ae4ff1bb1458",
   "metadata": {},
   "source": []
  },
  {
   "cell_type": "markdown",
   "id": "5e4efc7c-50c4-40ad-bc5d-3a47ae253a43",
   "metadata": {},
   "source": []
  },
  {
   "cell_type": "markdown",
   "id": "48ae40d6-d55a-4dc0-a774-7e6e0d30e5b1",
   "metadata": {},
   "source": []
  },
  {
   "cell_type": "markdown",
   "id": "5cbc9ebd-05c2-45af-bf13-3e10f85f9a62",
   "metadata": {},
   "source": []
  },
  {
   "cell_type": "markdown",
   "id": "e2802bae-3d0a-48e3-ab1a-73bcaa4e8476",
   "metadata": {},
   "source": []
  }
 ],
 "metadata": {
  "kernelspec": {
   "display_name": "Python 3 (ipykernel)",
   "language": "python",
   "name": "python3"
  },
  "language_info": {
   "codemirror_mode": {
    "name": "ipython",
    "version": 3
   },
   "file_extension": ".py",
   "mimetype": "text/x-python",
   "name": "python",
   "nbconvert_exporter": "python",
   "pygments_lexer": "ipython3",
   "version": "3.13.2"
  }
 },
 "nbformat": 4,
 "nbformat_minor": 5
}
