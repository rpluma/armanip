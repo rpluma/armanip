{
 "cells": [
  {
   "cell_type": "markdown",
   "id": "b8399ea2-c6c7-40c5-af96-e1487a294712",
   "metadata": {
    "tags": []
   },
   "source": [
    "# Ecuaciones"
   ]
  },
  {
   "cell_type": "markdown",
   "id": "50913b6b-81ae-4221-bf53-b34657e2da25",
   "metadata": {
    "tags": []
   },
   "source": [
    "## Lab 1: Cartesian trajectory planning\n",
    "\n",
    "Time law from initial time of the trajectory $t_i$ and final time of the trajectory $t_f$\n",
    "\n",
    "$$\\lambda(t) = \\frac {t - t_i} {t_f - t_i} \\quad \\lambda \\in [0, 1] \\tag {1.1}$$"
   ]
  },
  {
   "cell_type": "markdown",
   "id": "5216e647-9efa-43cf-85e8-2b8d5478d6f3",
   "metadata": {
    "tags": []
   },
   "source": [
    "Linearly interpolated transition:\n",
    "\n",
    "$$p(t) = p_0 + \\lambda(t) (p_1 - p_0) \\tag {1.2}$$"
   ]
  },
  {
   "cell_type": "markdown",
   "id": "2a1869f5-1248-40dc-9987-4e7843195933",
   "metadata": {
    "tags": []
   },
   "source": [
    "Quaternion as a rotation angle $\\theta$ over an axis $\\vec n$:\n",
    "\n",
    "$$q = [\\omega, \\vec v] = Rot(n, \\theta) = [\\cos \\frac \\theta 2 + \\sin \\frac \\theta 2 \\vec n ] \\quad  \\omega \\in \\mathbb{R} \\quad \\vec v, \\vec n \\in \\mathbb{R}^3  \\tag {1.3a}$$\n",
    "\n",
    "$$ \\quad \\theta = 2 \\arccos(\\omega) \\quad \\vec n = \\frac {\\vec v} {\\sin(\\theta /2)} \\tag {1.3b}$$"
   ]
  },
  {
   "cell_type": "markdown",
   "id": "6fec54c0-d2eb-4297-aafa-150b82bd5c01",
   "metadata": {
    "tags": []
   },
   "source": [
    "3D rotation to go from $q_A$ to $q_B$:\n",
    "\n",
    "$$q_A \\cdot q_C = q_B \\implies q_C = q_A^{-1} \\cdot q_B = [w_c, \\vec v_C] \\tag {1.4}$$"
   ]
  },
  {
   "cell_type": "markdown",
   "id": "715c1035-2d95-4813-8a7b-a611df715712",
   "metadata": {
    "tags": []
   },
   "source": [
    "Interpolation of rotation:\n",
    "\n",
    "$$\\theta_{\\lambda} (t) = \\lambda(t) \\theta \\tag {1.5}$$"
   ]
  },
  {
   "cell_type": "markdown",
   "id": "4b960cf5-c700-490b-b02a-ab5b7afff686",
   "metadata": {
    "tags": []
   },
   "source": [
    "Interpolation of the rotation quaternion:\n",
    "\n",
    "$$q_{rot}(\\lambda) = [w_{rot} (\\lambda), \\vec v_{rot} (\\lambda)] \\quad \n",
    "w_{rot} (\\lambda) = \\cos \\frac {\\theta_{\\lambda}(\\lambda)} {2} \\quad \\vec v_{rot}(\\lambda) = \\vec n \\sin \\frac {\\theta_{\\lambda}(\\lambda)} {2} \\tag {1.6}$$"
   ]
  },
  {
   "cell_type": "markdown",
   "id": "9c049b57-0407-48a4-bc44-cc0d53ceb886",
   "metadata": {
    "tags": []
   },
   "source": [
    "Interpolation quaternion $q_{\\lambda}(\\lambda)$:\n",
    "\n",
    "$$q_{\\lambda}(\\lambda) = q_A \\cdot q_{rot}(\\lambda) \\implies q_{\\lambda} (0) = q_A \\quad q_{\\lambda} (1) = q_B \\tag {1.7}$$"
   ]
  },
  {
   "cell_type": "markdown",
   "id": "8d32e1b3-c4e7-42b6-b6d2-25bb277fb5da",
   "metadata": {
    "tags": []
   },
   "source": [
    "## Lab 2: Manipulator dynamics simulation\n",
    "\n",
    "Dynamics of an open kinematic chain robotic manipulator:\n",
    "\n",
    "$$M(q)\\ddot q + C(q, \\dot q)\\dot q + F_b \\dot q + g(q) = \\tau + \\tau_{ext} \\tag {2.1}$$\n",
    "\n",
    "$$\\ddot q = M^{-1}(q)[\\tau + \\tau_{ext} - C(q, \\dot q)\\dot q - F_b \\dot q - g(q)] \\tag {2.2}$$\n",
    "\n",
    "Where:\n",
    "\n",
    "- $q, \\dot q, \\ddot q$: vectors of joint positions, velocities and accelerations\n",
    "- $M(q)$: intertia matrix\n",
    "- $C(q, \\dot q)$: Coriolis and centrifugal forces matrix\n",
    "- $F_b$: viscous friction matrix\n",
    "- $g$: gravity vector\n",
    "- $\\tau$: commaned join torques\n",
    "- $\\tau_{ext}$: torques due to external forces"
   ]
  },
  {
   "cell_type": "markdown",
   "id": "9bd262d8-fa75-465f-87f0-58d3b209c4d4",
   "metadata": {
    "tags": []
   },
   "source": [
    "$$M(q) = \\begin{bmatrix}\n",
    "m_1  l_1^2 + m_2 (l_1^2+2  l_1 l_2  \\cos(q2)+ l_2^2) & m_2 (l_1 l_2 cos(q_2) + l_2^2)\\\\\n",
    "m_2  (l_1  l_2  \\cos (q_2) + l_2^2) & m_2  l_2^2\n",
    "\\end{bmatrix} \\tag {2.3}$$"
   ]
  },
  {
   "cell_type": "markdown",
   "id": "d89c82f7-676f-49e3-bbfd-dc87c8869454",
   "metadata": {
    "tags": []
   },
   "source": [
    "$$C(q,\\dot q)\\dot q = \\begin{bmatrix}\n",
    "-m_2 l_1 l_2 \\sin(q_2) (2 \\dot q_1 \\dot q_2 + \\dot q_2^2)\\\\\n",
    "m_2 l_1 l_2 \\dot q_1^2 \\sin(q_2)\n",
    "\\end{bmatrix} \\tag {2.4}$$"
   ]
  },
  {
   "cell_type": "markdown",
   "id": "e08bdf28-0819-4b9f-8b91-2d0a7846495a",
   "metadata": {
    "tags": []
   },
   "source": [
    "$$F_b = \\begin{bmatrix}\n",
    "b_1 & 0\\\\\n",
    "0 & b_2\n",
    "\\end{bmatrix} \\tag {2.5}$$"
   ]
  },
  {
   "cell_type": "markdown",
   "id": "a05dd5ea-00c8-4332-83f3-46590b0f3f02",
   "metadata": {
    "tags": []
   },
   "source": [
    "$$g(q) = \\begin{bmatrix}\n",
    "(m_1 + m_2) l_1 g \\cos(q1)+m_2 l_2 g \\cos (q_1 + q_2)\\\\\n",
    "m_2 l_2 g \\cos(1_1 + q_2)\n",
    "\\end{bmatrix} \\tag {2.6}$$"
   ]
  },
  {
   "cell_type": "markdown",
   "id": "50da90f2-469c-41ac-be63-45882fa459bf",
   "metadata": {
    "tags": []
   },
   "source": [
    "$$J(q) = \\begin{bmatrix}\n",
    "-l_1 \\sin(q_1) -l_2 \\sin(q_1 + q_2) & -l_2 \\sin(q_1 + q_2)\\\\\n",
    " l_1 \\cos(q_1) -l_2 \\sin(q_1 + q_2) &  l_2 \\cos(q_1 + q_2)\n",
    "\\end{bmatrix} \\tag {2.7}$$"
   ]
  },
  {
   "cell_type": "markdown",
   "id": "c5a11c27-885f-4ca8-9c05-f626ef5ecc6e",
   "metadata": {
    "tags": []
   },
   "source": [
    "$$\\tau_{ext} = J(q)^T \\cdot F_{ext} \\tag {2.8}$$"
   ]
  },
  {
   "cell_type": "markdown",
   "id": "f3cf23a0-aa92-4234-a75d-d1e9f245e11b",
   "metadata": {
    "tags": []
   },
   "source": [
    "## Lab 3: Inverse Dynamics Control\n",
    "\n",
    "Gravity compensation:\n",
    "\n",
    "$$\\tau = g(q) \\tag {3.1}$$"
   ]
  },
  {
   "cell_type": "markdown",
   "id": "c93b49e0-ce66-4ca2-863f-ca292d7a40a6",
   "metadata": {
    "tags": []
   },
   "source": [
    "Simulation of the force sensor:\n",
    "\n",
    "$$\\tau_{ext} = J(q)^T \\cdot F_{ext} \\tag {2.8}$$"
   ]
  },
  {
   "cell_type": "markdown",
   "id": "8057e28b-79b6-432e-8fd6-0108ceb76d96",
   "metadata": {
    "tags": []
   },
   "source": [
    "Linearization by inverse dynamics control:\n",
    "\n",
    "$$\\tau = M(q)\\cdot \\ddot q_d + C(q, \\dot q)\\dot q + F_b \\dot q + g(q) \\tag {3.2}$$"
   ]
  },
  {
   "cell_type": "markdown",
   "id": "560ed689-d0b8-47ca-acfc-5cc3983e0760",
   "metadata": {
    "tags": []
   },
   "source": [
    "Linearization by inverse dynamics control including external forces\n",
    "\n",
    "$$\\tau = M(q)\\cdot \\ddot q_d + C(q, \\dot q)\\dot q + F_b \\dot q + g(q) + J(q)^T \\cdot F_{ext} \\tag {5.1}$$"
   ]
  },
  {
   "cell_type": "markdown",
   "id": "8633b437-54cd-4b32-ad91-ce8d175c3f21",
   "metadata": {
    "tags": []
   },
   "source": [
    "## Lab 4: Impedance control\n",
    "\n",
    "Forward kinematics:\n",
    "\n",
    "$$x = \\begin{bmatrix}\n",
    "l_1 \\cos (q_1) + l_2\\cos(q_1+q_2)\\\\\n",
    "l_1 \\sin (q_1) + l_2\\sin(q_1+q_2)\n",
    "\\end{bmatrix} \\tag {4.1}$$"
   ]
  },
  {
   "cell_type": "markdown",
   "id": "3edd2856-82bd-428a-96a1-2e01faf72757",
   "metadata": {
    "tags": []
   },
   "source": [
    "Jacobians: \n",
    "\n",
    "$$J(q) = \\begin{bmatrix}\n",
    "-l_1 \\sin(q_1) -l_2 \\sin(q_1 + q_2) & -l_2 \\sin(q_1 + q_2)\\\\\n",
    " l_1 \\cos(q_1) -l_2 \\sin(q_1 + q_2) &  l_2 \\cos(q_1 + q_2)\n",
    "\\end{bmatrix} \\tag {2.7}$$\n",
    "\n",
    "$$\\dot J(q, \\dot q) = \\begin{bmatrix}\n",
    "-l_1 \\cos (q_1) \\dot q_1 -l_2\\cos(q_1+q_2) \\dot q_1 & -l_2\\cos(q_1+q_2) \\dot q_2\\\\\n",
    "-l_1 \\sin (q_1) \\dot q_1 -l_2\\sin(q_1+q_2) \\dot q_1 & -l_2\\sin(q_1+q_2) \\dot q_2\n",
    "\\end{bmatrix} \\tag {4.2}$$"
   ]
  },
  {
   "cell_type": "markdown",
   "id": "1bd36777-598b-4f38-973b-c4cb69c3a392",
   "metadata": {
    "tags": []
   },
   "source": [
    "Diferential kinematics:\n",
    "\n",
    "$$\\dot x = J(q) \\dot q \\tag {4.3}$$"
   ]
  },
  {
   "cell_type": "markdown",
   "id": "1bb7b412-b5cd-4b19-86d3-5d2fc946ec43",
   "metadata": {
    "tags": []
   },
   "source": [
    "Second order impedance model:\n",
    "\n",
    "$$M \\ddot {\\tilde{x}} + B \\dot {\\tilde{x}} + B {\\tilde{x}} = f_{ext} \\tag {4.4}$$"
   ]
  },
  {
   "cell_type": "markdown",
   "id": "a75c8c26-bbfc-4d69-b141-539520e4d1cb",
   "metadata": {
    "tags": []
   },
   "source": [
    "Mechanical impedance model\n",
    "\n",
    "$$\\ddot {\\tilde{x_d}} = M^{-1}(f_{ext}-  B \\dot {\\tilde{x}} - B {\\tilde{x}} )\\tag {4.5}$$\n",
    "\n",
    "Where: \n",
    "- ${\\tilde{x_d}} = x -  {x_d}$\n",
    "- $\\dot {\\tilde{x_d}} = \\dot x - \\dot {x_d}$\n"
   ]
  },
  {
   "cell_type": "markdown",
   "id": "c1ee247e-9671-4f87-a036-02ff294bbe46",
   "metadata": {
    "tags": []
   },
   "source": [
    "\n",
    "Second order differential kinematics:\n",
    "\n",
    "$$\\ddot x = J(q) \\ddot q + \\dot J (q, \\dot q) \\dot q \\tag {4.6a}$$\n",
    "\n",
    "$$\\ddot 1 = J(q)^{-1} [\\ddot x - \\dot J(q, \\dot q)\\dot q \\tag {4.6b}$$"
   ]
  },
  {
   "cell_type": "markdown",
   "id": "41484c6c-d29a-43ee-b7d3-9952c57fd5cb",
   "metadata": {},
   "source": [
    "## Lab 5: Force Control\n",
    "\n",
    "Control law:\n",
    "\n",
    "$$\\tau = M(q)\\cdot \\ddot q_d + C(q, \\dot q)\\dot q + F_b \\dot q + g(q) + J(q)^T \\cdot F_{ext} \\tag {5.1}$$"
   ]
  },
  {
   "cell_type": "markdown",
   "id": "4aee77de-2589-40d0-bd24-03009a625277",
   "metadata": {},
   "source": [
    "Kinematic behavior of the manipulator:\n",
    "\n",
    "$$\\ddot q = J(q)^{-1}[\\ddot x - \\dot J(q, \\dot q)\\dot q] \\tag {5.2}$$"
   ]
  },
  {
   "cell_type": "markdown",
   "id": "407cb533-95f0-432f-b8b2-34a72b10563c",
   "metadata": {},
   "source": [
    "Force control law:\n",
    "\n",
    "$$M_d \\ddot x_e + K_D \\dot x_e + K_p (I_3 + C_F K) x_e = K_p C_F(Kx_r + f_d) \\tag {5.3}$$"
   ]
  },
  {
   "cell_type": "markdown",
   "id": "69ba5090-1b67-43a7-9ee0-1392cb74abfb",
   "metadata": {},
   "source": [
    "System input: \n",
    "\n",
    "$$x_f = C_F(f_d - f_e) \\tag {5.4}$$\n",
    "\n",
    "Where:\n",
    "\n",
    "- $C_F$: proportinal constant\n",
    "- $f_d$: reference force\n",
    "- $f_e = K(x_e- x_r)$: force applied by the robot on the elastic surface"
   ]
  }
 ],
 "metadata": {
  "kernelspec": {
   "display_name": "Python 3 (ipykernel)",
   "language": "python",
   "name": "python3"
  },
  "language_info": {
   "codemirror_mode": {
    "name": "ipython",
    "version": 3
   },
   "file_extension": ".py",
   "mimetype": "text/x-python",
   "name": "python",
   "nbconvert_exporter": "python",
   "pygments_lexer": "ipython3",
   "version": "3.12.9"
  }
 },
 "nbformat": 4,
 "nbformat_minor": 5
}
