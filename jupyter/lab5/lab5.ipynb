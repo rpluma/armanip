{
 "cells": [
  {
   "cell_type": "code",
   "execution_count": null,
   "id": "b979cbfe-a850-46c4-b5d8-5f51208d7177",
   "metadata": {},
   "outputs": [],
   "source": []
  },
  {
   "cell_type": "markdown",
   "id": "9459966f-6f1d-4a84-9b5a-2b51b718ff2a",
   "metadata": {
    "tags": []
   },
   "source": [
    "# Lab 5 Force Control\n",
    "\n",
    "<div style=\"color: red;\">\n",
    "\n",
    "Pendientes lab5:\n",
    "    \n",
    "1. En el punto 4.3 hay un símbolo raro en el diferencial\n",
    "2. Los bloques Kp y Kd son PIDs o sólo ganancias?\n",
    "        \n",
    "</div>"
   ]
  },
  {
   "cell_type": "markdown",
   "id": "aedaa252-11f1-4fed-b829-bf5da05b675b",
   "metadata": {},
   "source": [
    "## Questions\n",
    "\n",
    "### Question 1\n",
    "\n",
    "- Is the proposed controller correct? Why?\n",
    "- What is happening in the Y axis? Why?\n",
    "\n",
    "### Question 2\n",
    "\n",
    "- Does this produce any improvement in the controller? Why?\n",
    "- Can you improve it more? How?"
   ]
  },
  {
   "cell_type": "markdown",
   "id": "e2c8b16c-3392-4155-a1de-ce4d6c745c37",
   "metadata": {},
   "source": [
    "## Introduction"
   ]
  },
  {
   "cell_type": "markdown",
   "id": "6200780f-8d6b-49fc-9f98-fc75b116b497",
   "metadata": {},
   "source": [
    "In this lab we will simulate the dynamic behavior of the RR manipulator under a force control shceme with an internal position loop. As in the previous situation, the robot's dynamic behavior is linearized through the control law we used in the previous Labs\n",
    "\n",
    "In this case, the goal is to implement the force control law indicated illustrated in the following schema according to the expression:\n",
    "\n",
    "$$M_d \\ddot x_e + K_D \\dot x_e + K_P(I_3 + C_F K)x_e = K_P+C_F(Kx_r + f_d)$$"
   ]
  },
  {
   "cell_type": "markdown",
   "id": "36e0e091-0c54-4c7d-b1f9-46ff30de6136",
   "metadata": {},
   "source": [
    "## Simulate P control"
   ]
  },
  {
   "cell_type": "markdown",
   "id": "d073788d-fe7f-4eb1-9aee-75a979298515",
   "metadata": {},
   "source": [
    "Simulate in SIMULINK the dynamic behavior of the manipulator in contact with the environment using the equivalent model, assuming the contact position is\n",
    "\n",
    "- $x_r = [1.2, 0.7]$ (m)\n",
    "- $f_d = [10, 0]$ (N)"
   ]
  },
  {
   "cell_type": "markdown",
   "id": "a627b8a7-349d-4af4-bfef-ac31164bbb52",
   "metadata": {},
   "source": [
    "## Simulate PI control"
   ]
  },
  {
   "cell_type": "markdown",
   "id": "35c49741-1ca8-4bf1-b100-3509aae40111",
   "metadata": {},
   "source": [
    "With the proposed control scheme, due to disturbances introduced by $x_r$, \n",
    "the reference force may not be reached in steady state. To address this, it is proposed to convert the constant CF into a proportional-integral action:\n",
    "\n",
    "$$C_F = K_F + K_i \\int ^t (·) dx $$"
   ]
  },
  {
   "cell_type": "markdown",
   "id": "43679f2b-db1d-42a1-943a-b3d52613fcfc",
   "metadata": {},
   "source": [
    "Implement this model in SIMULINK and simulate the dynamic behavior when\n",
    "\n",
    "- $K_F = [0.03 0; 0 0]$\n",
    "- $K_I = [0.03 0, 0 0]$]"
   ]
  },
  {
   "cell_type": "markdown",
   "id": "59178cd3-ca7a-4ff5-a2c2-ddd05b65db87",
   "metadata": {},
   "source": []
  },
  {
   "cell_type": "markdown",
   "id": "a38b5d58-58b8-48bb-b6c9-796cd64556cb",
   "metadata": {},
   "source": []
  },
  {
   "cell_type": "markdown",
   "id": "95f47d42-9bc5-4969-bfb1-03d8df6c3ead",
   "metadata": {},
   "source": []
  },
  {
   "cell_type": "markdown",
   "id": "6bda0370-11a5-4451-8f78-ee6a4df6fabd",
   "metadata": {},
   "source": []
  }
 ],
 "metadata": {
  "kernelspec": {
   "display_name": "Python 3 (ipykernel)",
   "language": "python",
   "name": "python3"
  },
  "language_info": {
   "codemirror_mode": {
    "name": "ipython",
    "version": 3
   },
   "file_extension": ".py",
   "mimetype": "text/x-python",
   "name": "python",
   "nbconvert_exporter": "python",
   "pygments_lexer": "ipython3",
   "version": "3.13.2"
  }
 },
 "nbformat": 4,
 "nbformat_minor": 5
}
