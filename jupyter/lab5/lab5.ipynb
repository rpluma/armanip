{
 "cells": [
  {
   "cell_type": "code",
   "execution_count": null,
   "id": "b979cbfe-a850-46c4-b5d8-5f51208d7177",
   "metadata": {},
   "outputs": [],
   "source": []
  },
  {
   "cell_type": "markdown",
   "id": "9459966f-6f1d-4a84-9b5a-2b51b718ff2a",
   "metadata": {
    "tags": []
   },
   "source": [
    "# Lab 5 Force Control\n",
    "\n",
    "<div style=\"color: red;\">\n",
    "\n",
    "Pendientes lab5:\n",
    "    \n",
    "1. tbd\n",
    "        \n",
    "</div>"
   ]
  },
  {
   "cell_type": "code",
   "execution_count": null,
   "id": "afdda709-abc4-4448-a6c2-5a5979b3779a",
   "metadata": {},
   "outputs": [],
   "source": []
  }
 ],
 "metadata": {
  "kernelspec": {
   "display_name": "Python 3 (ipykernel)",
   "language": "python",
   "name": "python3"
  },
  "language_info": {
   "codemirror_mode": {
    "name": "ipython",
    "version": 3
   },
   "file_extension": ".py",
   "mimetype": "text/x-python",
   "name": "python",
   "nbconvert_exporter": "python",
   "pygments_lexer": "ipython3",
   "version": "3.13.2"
  }
 },
 "nbformat": 4,
 "nbformat_minor": 5
}
