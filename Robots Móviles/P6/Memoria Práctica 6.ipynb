{
 "cells": [
  {
   "cell_type": "markdown",
   "id": "6635bce7-c073-4539-aaf5-dc38602e8d4e",
   "metadata": {},
   "source": [
    "# P1: Modelado de un vehículo\n",
    "\n",
    "# P2: Segimiento de Caminos\n",
    "\n",
    "# P3: SLAM basado en EFK\n",
    "\n",
    "# P4: Evitar Obstáculos\n",
    "\n",
    "# P5: Planificación de Caminos - Dijkstra\n",
    "\n",
    "P6: Planificación de Caminos - A*\n",
    "\n",
    "P7: Navegación Autónoma\n",
    "\n",
    "\n",
    "<div style=\"color: red;\">\n",
    "\n",
    "- Pendiente mejora del código aestrella (p. ej., while true/break)\n",
    "- Pendiente corregir bug de A* cuando la heurística está bien/mal\n",
    "    \n",
    "    \n",
    "</div>\n",
    "\n",
    "\\newpage"
   ]
  },
  {
   "cell_type": "markdown",
   "id": "79644d60-7748-401b-880f-52e9355496bf",
   "metadata": {},
   "source": [
    "# Planificación de Caminos - A*\n",
    "\n",
    "En este ejercicio se plantea realizar una planificación de caminos para un robot móvil, siendo necesario planificar el camino a realizar entre dos puntos o localizaciones muy distantes en el espacio. Para resolver este problema de planificación, dado que la ubicación inicial y final están separadas por largas distancias, se utilizan mapas topológicos y algoritmos de búsqueda en grafos. \n",
    "\n",
    "En esta práctica se plantea resolver el problema de encontrar un camino o ruta mediante el algoritmo A* (A estrella). Este algoritmo es un método de búsqueda informada en grafos, que considera el coste de los caminos que unen los nodos del grafo y una heurística que da una estimación del coste de llegar al objetivo por el camino explorado. El algoritmo A* proporciona la ruta de menor coste entre un origen y un destino, siendo, por tanto, la ruta óptima y, además, encuentra la solución con el menor coste computacional. Ambas afirmaciones son ciertas siempre que la heurística sea consistente: \n",
    "\n",
    "$$f(n) = g(n) + h^*(n) , \\quad h^*(n) \\le h(n)$$"
   ]
  },
  {
   "cell_type": "markdown",
   "id": "35817569-a3ef-4cbd-8957-433d1cd0fe3c",
   "metadata": {},
   "source": [
    "\\newpage\n",
    "\n",
    "## Ejercicio\n",
    "\n",
    "Implementar el algoritmo A* en Matlab mediante una función que devuelva el coste y la ruta óptima a partir de un origen y un destino pasados como parámetros, además del mapa topológico o grafo, que se le pasará a la función como una matriz NxN, que almacena el coste de llegar del nodo n1, como fila, al nodo n2, como columna, y, por último, la heurística. La función se debe implementar de forma que la llamada: \n",
    "```\n",
    ">> [coste, ruta]=aestrella(G,H,1,7) \n",
    "\n",
    "```\n",
    "\n",
    "devuelva el coste de llegar desde el nodo origen al nodo destino, y un vector con la lista de nodos que componen la ruta (incluidos los nodos inicial y final). \n"
   ]
  },
  {
   "cell_type": "markdown",
   "id": "a9182efc-8e99-4e5f-ac99-58463fe6f2b4",
   "metadata": {},
   "source": [
    "Por ejemplo, dado el mapa topológico y la matriz de costes correspondiente que se muestran a continuación: \n",
    "\n",
    "![E61enunciadoA.jpg](E61enunciadoA.jpg)"
   ]
  },
  {
   "cell_type": "markdown",
   "id": "6d898d28-41d3-47be-9d8f-10c2f113f4e1",
   "metadata": {},
   "source": [
    "La heurística será otra matriz NxN que muestra, para cada nodo, el coste estimado para llegar a un nodo concreto. \n",
    "\n",
    "![E61enunciadoA.jpg](E61enunciadoB.jpg)"
   ]
  },
  {
   "cell_type": "markdown",
   "id": "43712ade-baea-4280-bd1c-28f303a64333",
   "metadata": {},
   "source": [
    "### Codificación\n",
    "\n",
    "```C\n",
    "function [coste, ruta] = aestrella(G, H, Origen, Destino)\n",
    "    % G: matriz de adyacencia con los costes reales entre nodos\n",
    "    % H: matriz heurística: coste estimado desde cada nodo hasta cualquier otro\n",
    "    % Origen: nodo de inicio\n",
    "    % Destino: nodo objetivo\n",
    "    % Salida:\n",
    "    %   - coste: coste total del camino más corto\n",
    "    %   - ruta: lista de nodos que forman el camino más corto (incluye Origen y Destino)\n",
    "\n",
    "    n = size(G, 1);             % Número total de nodos en el grafo\n",
    "    g = Inf(n, 1);              % g(n): coste real mínimo desde el Origen a cada nodo\n",
    "    f = Inf(n, 1);              % f(n) = g(n) + h(n): estimación total de coste\n",
    "    g(Origen) = 0;              % El coste real desde el Origen a sí mismo es 0\n",
    "    f(Origen) = H(Origen, Destino);  % f del Origen = heurística inicial\n",
    "\n",
    "    nodo_ant = NaN(n, 1);       % Para reconstruir el camino más corto\n",
    "    visitados = false(n, 1);    % Marcador de nodos ya procesados\n",
    "\n",
    "    while true\n",
    "        % Buscar el nodo no visitado con menor f(n)\n",
    "        min_f = Inf;\n",
    "        u = -1;  % nodo actual\n",
    "        for i = 1:n\n",
    "            if ~visitados(i) && f(i) < min_f\n",
    "                min_f = f(i);\n",
    "                u = i;\n",
    "            end\n",
    "        end\n",
    "\n",
    "        if u == -1\n",
    "            break;  % No quedan nodos por explorar: no hay camino posible\n",
    "        end\n",
    "\n",
    "        if u == Destino\n",
    "            break;  % Hemos llegado al destino\n",
    "        end\n",
    "\n",
    "        visitados(u) = true;  % Marcar el nodo actual como procesado\n",
    "\n",
    "        % Recorrer todos los vecinos del nodo actual u\n",
    "        for v = 1:n\n",
    "            if G(u,v) > 0 && ~visitados(v)\n",
    "                % --------------------------------------------------------\n",
    "                % DEFINICIÓN DEL COSTE TENTATIVO:\n",
    "                % Es el coste de ir desde el nodo Origen hasta v pasando por u.\n",
    "                % Es decir, g(u) + coste de la arista de u a v.\n",
    "                % Se compara con el g(v) actual para ver si se mejora.\n",
    "                % --------------------------------------------------------\n",
    "                tentativo_g = g(u) + G(u,v);\n",
    "\n",
    "                % Si es mejor que el coste conocido hasta ahora, lo actualizamos\n",
    "                if tentativo_g < g(v)\n",
    "                    g(v) = tentativo_g;\n",
    "                    f(v) = g(v) + H(v, Destino);  % f(n) = g(n) + h(n)\n",
    "                    nodo_ant(v) = u;              % Guardar nodo anterior\n",
    "                end\n",
    "            end\n",
    "        end\n",
    "    end\n",
    "\n",
    "    % Reconstrucción del camino desde el destino hacia atrás\n",
    "    ruta = Destino;\n",
    "    u = Destino;\n",
    "    while ~isnan(nodo_ant(u))\n",
    "        u = nodo_ant(u);\n",
    "        ruta = [u ruta];  % Prependemos cada nodo al camino\n",
    "    end\n",
    "\n",
    "    % Si no comienza por el origen, significa que no hay camino posible\n",
    "    if ruta(1) ~= Origen\n",
    "        ruta = [];\n",
    "        coste = NaN;\n",
    "    else\n",
    "        coste = g(Destino);  % El coste total es el g del nodo destino\n",
    "    end\n",
    "end\n",
    "```"
   ]
  },
  {
   "cell_type": "markdown",
   "id": "ee4fabf9-321d-4b44-9829-92541ce4006d",
   "metadata": {},
   "source": [
    "### Pruebas\n",
    "\n",
    "```C\n",
    ">> load('../P5/grafos.mat')\n",
    ">> [coste, ruta] = aestrella(G, H, 1, 7)\n",
    "coste =\n",
    "     7\n",
    "ruta =\n",
    "     1     2     4     6     7\n",
    "```"
   ]
  },
  {
   "cell_type": "markdown",
   "id": "46c712cf-b1fd-4702-832d-25b56faeabd5",
   "metadata": {},
   "source": [
    "\\newpage\n",
    "\n",
    "## Ejercicio\n",
    "\n",
    "Comprobar el resultado del algoritmo para los siguientes nodos inicial y final:  \n",
    "\n",
    "```\n",
    ">> [coste, ruta]=aestrella(G,H,7,4) \n",
    "```\n",
    "\n",
    "Obsérvese como el resultado no es óptimo debido a que, para el camino óptimo, la heurística ha sobreestimado el coste real, por tanto, la heurística no es admisible, ya que no se cumple la desigualdad h*(n) ≤ h(n). "
   ]
  },
  {
   "cell_type": "markdown",
   "id": "153a5ce3-9b56-4eda-8227-90517a039b28",
   "metadata": {},
   "source": [
    "### Resultados\n",
    "\n",
    "La heurística propuesta no cumple con que el coste tiene que ser una estimación optimista de la distancia entre los nodos, y por tanto el resultado de la ejecución no es adecuado ya que el camino óptimo sería [7, 6, 4] con un coste de 1+2=3:\n",
    "\n",
    "```C\n",
    ">> [coste, ruta] = aestrella(G, H, 7, 4)\n",
    "coste =\n",
    "     4\n",
    "ruta =\n",
    "     7     4\n",
    "```\n"
   ]
  },
  {
   "cell_type": "markdown",
   "id": "650084b5-cac7-4c55-a814-4d8b85f388a6",
   "metadata": {},
   "source": [
    "\\newpage\n",
    "\n",
    "## Ejercicio\n",
    "\n",
    "Proponga una heurística admisible para que el resultado anterior si se corresponda al camino óptimo entre ambos nodos. "
   ]
  },
  {
   "cell_type": "markdown",
   "id": "cb84e129-f345-4901-9436-9bdea1f6cc35",
   "metadata": {},
   "source": [
    "### Modifiación de la heurśitcia\n",
    "\n",
    "El problema en este caso es que la matriz H está mal definida porque la distancia estimada entre el nodo 6 y el nodo 4 (fila 6, columna 4) es 4, superior a la distancia real en el grafo que es 2:\n",
    "\n",
    "```\n",
    "H = [\n",
    "     0     2     5     5     5     6     9\n",
    "     2     0     2     3     6     6     8\n",
    "     5     2     0     2     6     6     7\n",
    "     5     3     2     0     5     4     6\n",
    "     5     6     6     5     0     1     5\n",
    "     6     6     6     4     1     0     1\n",
    "     9     8     7     6     5     1     0]\n",
    "```\n",
    "\n",
    "Para corregir el problema, basta con reducir su valor a 2 o menos, por ejemplo: \n",
    "\n",
    "```C\n",
    ">> H(6,4) = 1;\n",
    ">> [coste, ruta] = aestrella(G, H, 7, 4)\n",
    "coste =\n",
    "     3\n",
    "ruta =\n",
    "     7     6     4\n",
    "```\n",
    "\n",
    "Otra posible solución sería convertir utilizar una matriz de unos:\n",
    "\n",
    "```C\n",
    ">> ones(7);\n",
    ">> [coste, ruta] = aestrella(G, H, 7, 4)\n",
    "coste =\n",
    "     3\n",
    "ruta =\n",
    "     7     6     4\n",
    "```"
   ]
  },
  {
   "cell_type": "markdown",
   "id": "121a17f5-0f12-4a1e-9912-d81049e88f9f",
   "metadata": {},
   "source": [
    "\\newpage\n",
    "\n",
    "## Apéndice: Solución en Python\n",
    "\n",
    "### Función auxiliar para obtener trayectoria"
   ]
  },
  {
   "cell_type": "code",
   "execution_count": 1,
   "id": "f9a41e0e-2266-4044-8983-1b64f8e65b0e",
   "metadata": {},
   "outputs": [],
   "source": [
    "def trayectoria(costes, inicio, fin):\n",
    "    if inicio == fin:\n",
    "        return([costes[fin]])\n",
    "    else:\n",
    "        nomPrev = costes[fin][3]\n",
    "        idxPrev = next((i for i, x in enumerate(costes) if x[1] == nomPrev), None)\n",
    "        nodPrev = costes[idxPrev]\n",
    "        return trayectoria(costes, inicio, nodPrev[0])+[costes[fin]]"
   ]
  },
  {
   "cell_type": "markdown",
   "id": "3729c994-48e7-44be-81ad-175efda030c7",
   "metadata": {},
   "source": [
    "### Algoritmo A*"
   ]
  },
  {
   "cell_type": "code",
   "execution_count": 2,
   "id": "41fc37ec-82f3-4987-9c33-be69c6ff4585",
   "metadata": {},
   "outputs": [],
   "source": [
    "def aestrella(Adjacencia, Heuristica, nombres, inicio, fin):\n",
    "    nodos =  [x for x in range(len(Adjacencia))]\n",
    "    infinito = 1000\n",
    "    ahora = inicio\n",
    "    visitados = []\n",
    "    \n",
    "    # inicializa la lista de costes, cada uno con (id, nombre, coste, h)\n",
    "    #costes = [[n, nombres[n], 0 if n==inicio else infinito, None, h[n]] for n in nodos]\n",
    "    costes = [[n, nombres[n], infinito, None, infinito] for n in nodos]\n",
    "    costes[inicio] = [inicio, nombres[inicio], 0, None, 0]\n",
    "    while ahora != fin:\n",
    "        \n",
    "        # añadir el nodo actual a la lista de visitados\n",
    "        visitados.append(ahora)\n",
    "        #print(\"-------\\n\", costes[ahora])\n",
    "        \n",
    "        # actualizar los costes de todos los nodos adjacentes\n",
    "        coste = costes[ahora][2]\n",
    "        #print(\"ahora={}, coste={}, h={}\".format(nombres[ahora], coste, h))\n",
    "        for i,a in enumerate(Adjacencia[ahora]):\n",
    "            if i not in visitados and a > 0 and coste+a < costes[i][2]: \n",
    "                #print(\"i={}, a={}, h={}\".format(nombres[i], a, h[i]))            \n",
    "                h = Heuristica[i][ahora]    \n",
    "                #costes[i] = [i, nombres[i], coste+a, nombres[ahora], coste+a+h[i]]\n",
    "                costes[i] = [i, nombres[i], coste+a, nombres[ahora], coste+a+h]\n",
    "        \n",
    "        # reordenar la lista de pendientes y quedarse con el de menor coste\n",
    "        pendientes = sorted([x for x in costes if x[0] not in visitados], key=lambda x: x[4])\n",
    "        #print(pendientes)\n",
    "        ahora = pendientes[0][0]\n",
    "    if costes[fin][2] < infinito:\n",
    "        ruta = trayectoria(costes, inicio, fin)\n",
    "        return costes[fin][2],[x[1] for x in ruta]        \n",
    "    else:\n",
    "        return ['Infinito', 'Nodo inalcanzable']\n",
    "    \n",
    "        "
   ]
  },
  {
   "cell_type": "markdown",
   "id": "1c91504d-9225-41c4-a35f-217c5541915c",
   "metadata": {},
   "source": [
    "### Pruebas con grafo de los apuntes\n",
    "\n",
    "Definimos una red de adayacencia que se corresponde con el grafo de los apuntes. Los nombres de los nodos se asignan en la variable Nombres, y la matriz heurística sólo se define para la última fila"
   ]
  },
  {
   "cell_type": "code",
   "execution_count": 3,
   "id": "57f813d3-58e9-4094-9fe1-ba8d136ca672",
   "metadata": {},
   "outputs": [],
   "source": [
    "AdjacenciaTeo = [\n",
    "    [0, 7, 2, 0, 0, 0, 0, 2, 0, 0, 0, 0, 0], # S\n",
    "    [7, 0, 3, 4, 0, 0, 0, 0, 0, 0, 0, 0, 0], # A\n",
    "    [2, 3, 0, 4, 1, 0, 0, 0, 0, 0, 0, 0, 0], # B\n",
    "    [0, 4, 4, 0, 5, 0, 0, 0, 0, 0, 0, 0, 0], # C\n",
    "    [0, 0, 1, 0, 0, 3, 2, 0, 0, 0, 0, 0, 0], # D\n",
    "    [0, 0, 0, 5, 3, 0, 0, 0, 0, 0, 0, 0, 0], # E\n",
    "    [0, 0, 0, 0, 2, 0, 0, 0, 0, 0, 0, 0, 2], # F\n",
    "    [2, 0, 0, 0, 0, 0, 0, 0, 2, 0, 0, 0, 0], # G\n",
    "    [0, 0, 0, 0, 0, 0, 0, 2, 0, 4, 4, 0, 0], # H\n",
    "    [0, 0, 0, 0, 0, 0, 0, 0, 4, 0, 6, 4, 0], # I\n",
    "    [0, 0, 0, 0, 0, 0, 0, 0, 4, 6, 0, 4, 0], # J\n",
    "    [0, 0, 0, 0, 0, 0, 0, 0, 0, 4, 4, 0, 5], # K\n",
    "    [0, 0, 0, 0, 0, 0, 2, 0, 0, 0, 0, 5, 0] # X\n",
    "]\n",
    "Nombres = \"SABCDEFGHIJKX\"\n",
    "Heuristica = [\n",
    "    [1, 1, 1, 1, 1, 1, 1, 1, 1, 1, 1, 1, 1], # S\n",
    "    [1, 1, 1, 1, 1, 1, 1, 1, 1, 1, 1, 1, 1], # A\n",
    "    [1, 1, 1, 1, 1, 1, 1, 1, 1, 1, 1, 1, 1], # B\n",
    "    [1, 1, 1, 1, 1, 1, 1, 1, 1, 1, 1, 1, 1], # C\n",
    "    [1, 1, 1, 1, 1, 1, 1, 1, 1, 1, 1, 1, 1], # D\n",
    "    [1, 1, 1, 1, 1, 1, 1, 1, 1, 1, 1, 1, 1], # E\n",
    "    [1, 1, 1, 1, 1, 1, 1, 1, 1, 1, 1, 1, 1], # F\n",
    "    [1, 1, 1, 1, 1, 1, 1, 1, 1, 1, 1, 1, 1], # G\n",
    "    [1, 1, 1, 1, 1, 1, 1, 1, 1, 1, 1, 1, 1], # H\n",
    "    [1, 1, 1, 1, 1, 1, 1, 1, 1, 1, 1, 1, 1], # I\n",
    "    [1, 1, 1, 1, 1, 1, 1, 1, 1, 1, 1, 1, 1], # J\n",
    "    [1, 1, 1, 1, 1, 1, 1, 1, 1, 1, 1, 1, 1], # K\n",
    "    [6, 6, 5, 4, 3, 3, 2, 7, 6, 4, 6, 4, 0] # X\n",
    "]"
   ]
  },
  {
   "cell_type": "code",
   "execution_count": 4,
   "id": "51604335-7c8a-459d-8627-c7eaa90a598b",
   "metadata": {},
   "outputs": [
    {
     "name": "stdout",
     "output_type": "stream",
     "text": [
      "A*:      total desde S hasta X = 7, ruta = ['S', 'B', 'D', 'F', 'X']\n"
     ]
    }
   ],
   "source": [
    "inicio, fin = 0, 12\n",
    "total, ruta = aestrella(AdjacenciaTeo, Heuristica, Nombres, inicio, fin)\n",
    "print(\"A*:      total desde {} hasta {} = {}, ruta = {}\".format(\n",
    "    Nombres[inicio], Nombres[fin], total, ruta))\n",
    "# errata en pagina 68, en C es 6|10(B)"
   ]
  },
  {
   "cell_type": "markdown",
   "id": "35f30a41-6fcc-44cb-983e-b4ddcd0db751",
   "metadata": {},
   "source": [
    "### Pruebas con la red de 7 nodos"
   ]
  },
  {
   "cell_type": "code",
   "execution_count": 5,
   "id": "4c6188ba-c388-4dde-9ed0-36abf1461e15",
   "metadata": {},
   "outputs": [
    {
     "name": "stdout",
     "output_type": "stream",
     "text": [
      "A*:      total desde 1 hasta 7 = 7, ruta = ['1', '2', '4', '6', '7']\n"
     ]
    }
   ],
   "source": [
    "AdjacenciaP5a = [ # matriz de costes y adyacencia\n",
    "    [0, 2, 0, 0, 9, 0, 0],\n",
    "    [2, 0, 1, 2, 0, 0, 0],\n",
    "    [0, 1, 0, 5, 0, 0, 0],\n",
    "    [0, 2, 5, 0, 1, 2, 4],\n",
    "    [9, 0, 0, 1, 0, 4, 0],\n",
    "    [0, 0, 0, 2, 4, 0, 1],\n",
    "    [0, 0, 0, 4, 0, 1, 0]]\n",
    "Heuristica = [\n",
    "    [0, 2, 5, 5, 5, 6, 9],\n",
    "    [2, 0, 2, 3, 6, 6, 8],\n",
    "    [5, 2, 0, 2, 6, 6, 7],\n",
    "    [5, 3, 2, 0, 5, 4, 6], \n",
    "    [5, 6, 6, 5, 0, 1, 5],\n",
    "    [6, 6, 6, 4, 1, 0, 1],\n",
    "    [9, 8, 7, 6, 5, 1, 0]]\n",
    "Nombres = \"1234567\"\n",
    "inicio, fin = 0, 6\n",
    "total, ruta = aestrella(AdjacenciaP5a, Heuristica, Nombres, inicio, fin)\n",
    "print(\"A*:      total desde {} hasta {} = {}, ruta = {}\".format(\n",
    "    Nombres[inicio], Nombres[fin], total, ruta))"
   ]
  },
  {
   "cell_type": "code",
   "execution_count": 6,
   "id": "15ba094a-415b-4d07-8613-62121f430c28",
   "metadata": {},
   "outputs": [
    {
     "name": "stdout",
     "output_type": "stream",
     "text": [
      "A*:      total desde 7 hasta 4 = 3, ruta = ['7', '6', '4']\n"
     ]
    }
   ],
   "source": [
    "inicio, fin = 6, 3\n",
    "total, ruta = aestrella(AdjacenciaP5a, Heuristica, Nombres, inicio, fin)\n",
    "print(\"A*:      total desde {} hasta {} = {}, ruta = {}\".format(\n",
    "    Nombres[inicio], Nombres[fin], total, ruta))"
   ]
  },
  {
   "cell_type": "markdown",
   "id": "650662f6-0e5a-4f4e-83a9-c71e00f57298",
   "metadata": {},
   "source": [
    "### Corrección de la heurística\n",
    "\n",
    "\n",
    "Cambiamos la fila 4 para modificar la heurística cuando el destino es ese nodo:\n",
    "\n",
    "- El nodo 4 sigue a cero porque es el nodo destino\n",
    "- A los nodos directamente conectados al 4 (todos menos el 1) se les asignan los valores de la matriz de adyacencica\n",
    "- Al nodo 1 se le asigna un valor 2 (al no estar directamente conectado al menos hay dos saltos)"
   ]
  },
  {
   "cell_type": "code",
   "execution_count": 7,
   "id": "32028cf2-56aa-4e19-ba60-727ddd466f34",
   "metadata": {},
   "outputs": [
    {
     "data": {
      "text/plain": [
       "[[0, 2, 5, 5, 5, 6, 9],\n",
       " [2, 0, 2, 3, 6, 6, 8],\n",
       " [5, 2, 0, 2, 6, 6, 7],\n",
       " [5, 3, 2, 0, 5, 4, 6],\n",
       " [5, 6, 6, 5, 0, 1, 5],\n",
       " [6, 6, 6, 1, 1, 0, 1],\n",
       " [9, 8, 7, 6, 5, 1, 0]]"
      ]
     },
     "execution_count": 7,
     "metadata": {},
     "output_type": "execute_result"
    }
   ],
   "source": [
    "Heuristica[5][3] = 1\n",
    "Heuristica"
   ]
  },
  {
   "cell_type": "code",
   "execution_count": 8,
   "id": "b4ab0ee2-2ba3-4609-897d-c9fcc6ca86d0",
   "metadata": {},
   "outputs": [
    {
     "name": "stdout",
     "output_type": "stream",
     "text": [
      "A*:      total desde 7 hasta 4 = 3, ruta = ['7', '6', '4']\n"
     ]
    }
   ],
   "source": [
    "total, ruta = aestrella(AdjacenciaP5a, Heuristica, Nombres, inicio, fin)\n",
    "print(\"A*:      total desde {} hasta {} = {}, ruta = {}\".format(\n",
    "    Nombres[inicio], Nombres[fin], total, ruta))"
   ]
  },
  {
   "cell_type": "markdown",
   "id": "096761bd-99a9-4463-9c13-6bb6493600a7",
   "metadata": {},
   "source": [
    "\\newpage\n",
    "\n",
    "## Apéndice: Implementación con Orientación a Objetos\n",
    "\n",
    "### Clase nodo"
   ]
  },
  {
   "cell_type": "code",
   "execution_count": 9,
   "id": "398a8032-1548-4c41-872a-7d950ab6900d",
   "metadata": {},
   "outputs": [],
   "source": [
    "class nodo:\n",
    "    def __init__(self, idx, nombre):\n",
    "        self.idx = idx\n",
    "        self.nombre = nombre\n",
    "        self.desde = None # coste desde inicio al nodo\n",
    "        self.hasta = None # coste desde nodo hasta fin\n",
    "        self.previo = None # nodo previo en el camino\n",
    "    def AsignarDesde(self, nuevocoste, previo):\n",
    "        if self.desde == None or self.desde > nuevocoste:\n",
    "            self.desde = nuevocoste\n",
    "            self.previo = previo\n",
    "    def AsignarHasta(self, nuevocoste):\n",
    "        if self.hasta == None or self.hasta > nuevocoste:\n",
    "            self.hasta = nuevocoste\n",
    "    def __str__(self):\n",
    "        return(\"idx={}, nombre={}, desde={}, hasta={}, previo={}\".format(\n",
    "            self.idx, self.nombre, self.desde, self.hasta, self.previo))\n",
    "#n = nodo(0, 'A')        "
   ]
  },
  {
   "cell_type": "markdown",
   "id": "3496cb6e-033c-4149-858d-f735938d7186",
   "metadata": {},
   "source": [
    "### Cálculo de trayectoria"
   ]
  },
  {
   "cell_type": "code",
   "execution_count": 10,
   "id": "997aec8e-d04f-4e8e-b126-703c22f9039c",
   "metadata": {},
   "outputs": [],
   "source": [
    "def trayectoria2(nodos, inicio, fin):\n",
    "    #print(\"trayectoria2, inicio={}, fin={}\".format(inicio, fin))\n",
    "    if inicio == fin:\n",
    "        return([nodos[fin].nombre])\n",
    "    else:\n",
    "        nomPrev = nodos[fin].previo\n",
    "        idxPrev = next((i for i, n in enumerate(nodos) if n.nombre == nomPrev), None)\n",
    "        return trayectoria2(nodos, inicio, idxPrev)+[nodos[fin].nombre]"
   ]
  },
  {
   "cell_type": "markdown",
   "id": "333a4b07-241f-4fc5-9d52-47e841923cb6",
   "metadata": {},
   "source": [
    "### Clase para almacenar un grafo"
   ]
  },
  {
   "cell_type": "code",
   "execution_count": 11,
   "id": "d358b9f8-f5d9-4db9-b667-107ed647963f",
   "metadata": {},
   "outputs": [],
   "source": [
    "import numpy as np\n",
    "\n",
    "class grafo:\n",
    "    def __init__(self, Nombres, Adyacencia, Heuristica=None):\n",
    "        #print(\"h \", Heuristica)\n",
    "        self.Nombres = Nombres\n",
    "        self.Adyacencia = np.array(Adyacencia)\n",
    "        self.N = len(Adyacencia)\n",
    "        if Heuristica == None:\n",
    "            # asignar el valor 2 a los nodos no conectados directamente\n",
    "            self.Heuristica = 2*np.ones((self.N, self.N))\n",
    "            for i in range(self.N):\n",
    "                for j in range(self.N):\n",
    "                    if Adyacencia[i][j] != 0 or i == j: \n",
    "                        #print(\"i\", i, \", j\", j, \", adj\", Adyacencia[i][j])\n",
    "                        self.Heuristica[i][j] = Adyacencia[i][j]\n",
    "        else:\n",
    "            #self.Heuristica = copy.deepcopy(Heuristica)\n",
    "            self.Heuristica = np.array(Heuristica)\n",
    "    def camino(self, inicio, fin, bAestrella = False):\n",
    "        # inicialización        \n",
    "        nodos =  [nodo(i, Nombres[i]) for i in range(self.N)]\n",
    "        ahora = inicio\n",
    "        nodos[inicio].desde = 0\n",
    "        visitados = []\n",
    "        h = self.Heuristica[fin]\n",
    "        if bAestrella:\n",
    "            ordenar = lambda x: 100000 if x.hasta==None else x.hasta\n",
    "        else:\n",
    "            ordenar = lambda x: 100000 if x.desde==None else x.desde\n",
    "        while ahora != fin:\n",
    "            # añadir el nodo actual a la lista de visitados\n",
    "            visitados.append(ahora)\n",
    "            \n",
    "            # actualizar los costes de todos los nodos adjacentes\n",
    "            #print(self.Adyacencia[ahora])\n",
    "            for i, arco in enumerate(self.Adyacencia[ahora]):\n",
    "                if i not in visitados and arco > 0:\n",
    "                    print(\"i={}, arco={}, previo={}\".format(i, arco, nodos[ahora].nombre))\n",
    "                    nodos[i].AsignarDesde(nodos[ahora].desde + arco, nodos[ahora].nombre)\n",
    "                    nodos[i].AsignarHasta(nodos[i].desde + h[i])\n",
    "\n",
    "            # reordenar la lista de pendientes y quedarse con el de menor coste\n",
    "            pendientes = sorted([x for x in nodos if x.idx not in visitados], key=ordenar)\n",
    "            ahora = pendientes[0].idx\n",
    "        #for i in range(self.N):\n",
    "        #    print(nodos[i])\n",
    "        #return\n",
    "        if nodos[fin].desde == None:\n",
    "            return ['Infinito', 'Nodo inalcanzable']\n",
    "        else:\n",
    "            #return nodos\n",
    "            ruta = trayectoria2(nodos, inicio, fin)\n",
    "            #print(ruta)\n",
    "            return int(nodos[fin].hasta) ,ruta # [x[1] for x in ruta]        \n",
    "\n",
    "                \n"
   ]
  },
  {
   "cell_type": "code",
   "execution_count": 12,
   "id": "f4949963-ef5c-40d0-983f-b3a6e0233ec8",
   "metadata": {},
   "outputs": [],
   "source": [
    "Nombres = \"SABCDEFGHIJKX\"\n",
    "Heuristica = [\n",
    "    [1, 1, 1, 1, 1, 1, 1, 1, 1, 1, 1, 1, 1], # S\n",
    "    [1, 1, 1, 1, 1, 1, 1, 1, 1, 1, 1, 1, 1], # A\n",
    "    [1, 1, 1, 1, 1, 1, 1, 1, 1, 1, 1, 1, 1], # B\n",
    "    [1, 1, 1, 1, 1, 1, 1, 1, 1, 1, 1, 1, 1], # C\n",
    "    [1, 1, 1, 1, 1, 1, 1, 1, 1, 1, 1, 1, 1], # D\n",
    "    [1, 1, 1, 1, 1, 1, 1, 1, 1, 1, 1, 1, 1], # E\n",
    "    [1, 1, 1, 1, 1, 1, 1, 1, 1, 1, 1, 1, 1], # F\n",
    "    [1, 1, 1, 1, 1, 1, 1, 1, 1, 1, 1, 1, 1], # G\n",
    "    [1, 1, 1, 1, 1, 1, 1, 1, 1, 1, 1, 1, 1], # H\n",
    "    [1, 1, 1, 1, 1, 1, 1, 1, 1, 1, 1, 1, 1], # I\n",
    "    [1, 1, 1, 1, 1, 1, 1, 1, 1, 1, 1, 1, 1], # J\n",
    "    [1, 1, 1, 1, 1, 1, 1, 1, 1, 1, 1, 1, 1], # K\n",
    "    [6, 6, 5, 4, 3, 3, 2, 7, 6, 4, 6, 4, 0] # X\n",
    "]\n",
    "G = grafo(Nombres, AdjacenciaTeo, Heuristica)"
   ]
  },
  {
   "cell_type": "code",
   "execution_count": 13,
   "id": "bc490f36-17f8-437e-b54f-65be785d114b",
   "metadata": {},
   "outputs": [
    {
     "name": "stdout",
     "output_type": "stream",
     "text": [
      "i=1, arco=7, previo=S\n",
      "i=2, arco=2, previo=S\n",
      "i=7, arco=2, previo=S\n",
      "i=1, arco=3, previo=B\n",
      "i=3, arco=4, previo=B\n",
      "i=4, arco=1, previo=B\n",
      "i=5, arco=3, previo=D\n",
      "i=6, arco=2, previo=D\n",
      "i=12, arco=2, previo=F\n"
     ]
    },
    {
     "data": {
      "text/plain": [
       "(7, ['S', 'B', 'D', 'F', 'X'])"
      ]
     },
     "execution_count": 13,
     "metadata": {},
     "output_type": "execute_result"
    }
   ],
   "source": [
    "# Ejecución con la opción A*\n",
    "inicio, fin, bAestrella = 0, 12, True\n",
    "G.camino(inicio, fin, bAestrella)\n"
   ]
  },
  {
   "cell_type": "code",
   "execution_count": 15,
   "id": "2f0178d8-3132-4733-934d-ab549202d801",
   "metadata": {},
   "outputs": [
    {
     "name": "stdout",
     "output_type": "stream",
     "text": [
      "i=1, arco=7, previo=S\n",
      "i=2, arco=2, previo=S\n",
      "i=7, arco=2, previo=S\n",
      "i=1, arco=3, previo=B\n",
      "i=3, arco=4, previo=B\n",
      "i=4, arco=1, previo=B\n",
      "i=8, arco=2, previo=G\n",
      "i=5, arco=3, previo=D\n",
      "i=6, arco=2, previo=D\n",
      "i=9, arco=4, previo=H\n",
      "i=10, arco=4, previo=H\n",
      "i=3, arco=4, previo=A\n",
      "i=12, arco=2, previo=F\n"
     ]
    },
    {
     "data": {
      "text/plain": [
       "(7, ['S', 'B', 'D', 'F', 'X'])"
      ]
     },
     "execution_count": 15,
     "metadata": {},
     "output_type": "execute_result"
    }
   ],
   "source": [
    "# Ejecución con la opción Djistra (bAestrella=False)\n",
    "inicio, fin, bAestrella = 0, 12, False\n",
    "G.camino(inicio, fin, bAestrella)"
   ]
  },
  {
   "cell_type": "code",
   "execution_count": 16,
   "id": "23342498-7822-48ea-a0ee-06b0bb4eb4c7",
   "metadata": {},
   "outputs": [],
   "source": [
    "AdjacenciaP5b=[\n",
    "[0, 2, 0, 0, 0, 2, 3, 0,  0, 0, 0, 0, 0,  0, 0, 0,  0, 0, 0,  0, 0, 0,  0, 0, 0],\n",
    "[2, 0, 2, 0, 0, 0, 0, 0,  0, 0, 0, 0, 0,  0, 0, 0,  0, 0, 0,  0, 0, 0,  0, 0, 0],\n",
    "[0, 2, 0, 2, 0, 0, 0, 2,  0, 0, 0, 0, 0,  0, 0, 0,  0, 0, 0,  0, 0, 0,  0, 0, 0],\n",
    "[0, 0, 2, 0, 0, 0, 0, 3,  0, 0, 0, 0, 0,  0, 0, 0,  0, 0, 0,  0, 0, 0,  0, 0, 0],\n",
    "[0, 0, 0, 0, 0, 0, 0, 0,  3, 2, 0, 0, 0,  0, 0, 0,  0, 0, 0,  0, 0, 0,  0, 0, 0],\n",
    "[2, 0, 0, 0, 0, 0, 0, 0,  0, 0, 0, 0, 0,  0, 0, 0,  0, 0, 0,  0, 0, 0,  0, 0, 0],\n",
    "[3, 0, 0, 0, 0, 0, 0, 0,  0, 0, 0, 0, 3,  0, 0, 0,  0, 0, 0,  0, 0, 0,  0, 0, 0],\n",
    "[0, 0, 2, 3, 0, 0, 0, 0,  2, 0, 0, 0, 13, 0, 0, 0,  0, 0, 0,  0, 0, 0,  0, 0, 0],\n",
    "[0, 0, 0, 0, 3, 0, 0, 2,  0, 0, 0, 0, 0,  0, 0, 0,  0, 0, 0,  0, 0, 0,  0, 0, 0],\n",
    "[0, 0, 0, 0, 2, 0, 0, 0,  0, 0, 0, 0, 0,  0, 2, 0,  0, 0, 0,  0, 0, 0,  0, 0, 0],\n",
    "[0, 0, 0, 0, 0, 0, 0, 0,  0, 0, 0, 2, 0,  0, 0, 2,  0, 0, 0,  0, 0, 0,  0, 0, 0],\n",
    "[0, 0, 0, 0, 0, 0, 0, 0,  0, 0, 2, 0, 0,  0, 0, 0,  2, 0, 0,  0, 0, 0,  0, 0, 0],\n",
    "[0, 0, 0, 0, 0, 0, 3, 13, 0, 0, 0, 0, 0,  0, 0, 0,  3, 0, 0,  0, 0, 0,  0, 0, 0],\n",
    "[0, 0, 0, 0, 0, 0, 0, 0,  0, 0, 0, 0, 0,  0, 2, 0,  0, 3, 0,  0, 0, 0,  0, 0, 0],\n",
    "[0, 0, 0, 0, 0, 0, 0, 0,  0, 2, 0, 0, 0,  2, 0, 0,  0, 0, 0,  2, 0, 0,  0, 0, 0],\n",
    "[0, 0, 0, 0, 0, 0, 0, 0,  0, 0, 2, 0, 0,  0, 0, 0,  8, 0, 0,  0, 6, 3,  0, 0, 0],\n",
    "[0, 0, 0, 0, 0, 0, 0, 0,  0, 0, 0, 2, 3,  0, 0, 8,  0, 0, 0,  0, 0, 10, 3, 0, 0],\n",
    "[0, 0, 0, 0, 0, 0, 0, 0,  0, 0, 0, 0, 0,  3, 0, 0,  0, 0, 2,  0, 0, 0,  2, 0, 0],\n",
    "[0, 0, 0, 0, 0, 0, 0, 0,  0, 0, 0, 0, 0,  0, 0, 0,  0, 2, 0,  2, 0, 0,  0, 0, 0],\n",
    "[0, 0, 0, 0, 0, 0, 0, 0,  0, 0, 0, 0, 0,  0, 2, 0,  0, 0, 10, 0, 0, 0,  0, 0, 2],\n",
    "[0, 0, 0, 0, 0, 0, 0, 0,  0, 0, 0, 0, 0,  0, 0, 6,  0, 0, 0,  0, 0, 0,  0, 0, 0],\n",
    "[0, 0, 0, 0, 0, 0, 0, 0,  0, 0, 0, 0, 0,  0, 0, 3, 10, 0, 0,  0, 0, 0,  0, 0, 0],\n",
    "[0, 0, 0, 0, 0, 0, 0, 0,  0, 0, 0, 0, 0,  0, 0, 0,  0, 2, 0,  0, 0, 0,  0, 0, 0],\n",
    "[0, 0, 0, 0, 0, 0, 0, 0,  0, 0, 0, 0, 0,  0, 0, 0,  0, 0, 0,  0, 0, 0,  0, 0, 0],\n",
    "[0, 0, 0, 0, 0, 0, 0, 0,  0, 0, 0, 0, 0,  0, 0, 0,  0, 0, 0,  2, 0, 0,  0, 0, 0]]\n",
    "Nombres=list(range(1, 26))\n",
    "G = grafo(Nombres, AdjacenciaP5b) # construye su propia heurística"
   ]
  },
  {
   "cell_type": "code",
   "execution_count": 17,
   "id": "8209cce5-537a-468c-a57c-82a73ce15fb3",
   "metadata": {},
   "outputs": [
    {
     "name": "stdout",
     "output_type": "stream",
     "text": [
      "i=17, arco=2, previo=23\n",
      "i=13, arco=3, previo=18\n",
      "i=18, arco=2, previo=18\n",
      "i=19, arco=2, previo=19\n",
      "i=14, arco=2, previo=14\n",
      "i=14, arco=2, previo=20\n",
      "i=24, arco=2, previo=20\n",
      "i=9, arco=2, previo=15\n",
      "i=4, arco=2, previo=10\n",
      "i=8, arco=3, previo=5\n",
      "i=7, arco=2, previo=9\n",
      "i=2, arco=2, previo=8\n",
      "i=3, arco=3, previo=8\n",
      "i=12, arco=13, previo=8\n",
      "i=1, arco=2, previo=3\n",
      "i=3, arco=2, previo=3\n",
      "i=0, arco=2, previo=2\n",
      "i=5, arco=2, previo=1\n",
      "i=6, arco=3, previo=1\n",
      "i=12, arco=3, previo=7\n",
      "i=16, arco=3, previo=13\n",
      "i=11, arco=2, previo=17\n",
      "i=15, arco=8, previo=17\n",
      "i=21, arco=10, previo=17\n",
      "i=10, arco=2, previo=12\n",
      "i=15, arco=2, previo=11\n",
      "i=20, arco=6, previo=16\n",
      "i=21, arco=3, previo=16\n"
     ]
    },
    {
     "data": {
      "text/plain": [
       "(40, [23, 18, 14, 15, 10, 5, 9, 8, 3, 2, 1, 7, 13, 17, 12, 11, 16, 22])"
      ]
     },
     "execution_count": 17,
     "metadata": {},
     "output_type": "execute_result"
    }
   ],
   "source": [
    "# Ejecución con la opción Djistra (bAestrella=False)\n",
    "inicio, fin, bAestrella = 22, 21, False\n",
    "G.camino(inicio, fin, bAestrella)"
   ]
  },
  {
   "cell_type": "code",
   "execution_count": 18,
   "id": "72a9b3b3-e5bb-4f62-9e0c-5aa9fd64dd35",
   "metadata": {},
   "outputs": [
    {
     "name": "stdout",
     "output_type": "stream",
     "text": [
      "i=17, arco=2, previo=23\n",
      "i=13, arco=3, previo=18\n",
      "i=18, arco=2, previo=18\n",
      "i=19, arco=2, previo=19\n",
      "i=14, arco=2, previo=14\n",
      "i=14, arco=2, previo=20\n",
      "i=24, arco=2, previo=20\n",
      "i=9, arco=2, previo=15\n",
      "i=4, arco=2, previo=10\n",
      "i=8, arco=3, previo=5\n",
      "i=7, arco=2, previo=9\n",
      "i=2, arco=2, previo=8\n",
      "i=3, arco=3, previo=8\n",
      "i=12, arco=13, previo=8\n",
      "i=1, arco=2, previo=3\n",
      "i=3, arco=2, previo=3\n",
      "i=0, arco=2, previo=2\n",
      "i=5, arco=2, previo=1\n",
      "i=6, arco=3, previo=1\n",
      "i=12, arco=3, previo=7\n",
      "i=16, arco=3, previo=13\n",
      "i=11, arco=2, previo=17\n",
      "i=15, arco=8, previo=17\n",
      "i=21, arco=10, previo=17\n",
      "i=10, arco=2, previo=12\n",
      "i=15, arco=2, previo=11\n",
      "i=20, arco=6, previo=16\n",
      "i=21, arco=3, previo=16\n"
     ]
    },
    {
     "data": {
      "text/plain": [
       "(40, [23, 18, 14, 15, 10, 5, 9, 8, 3, 2, 1, 7, 13, 17, 12, 11, 16, 22])"
      ]
     },
     "execution_count": 18,
     "metadata": {},
     "output_type": "execute_result"
    }
   ],
   "source": [
    "# Ejecución con la opción Djistra (bAestrella=False)\n",
    "inicio, fin, bAestrella = 22, 21, True\n",
    "G.camino(inicio, fin, bAestrella)"
   ]
  },
  {
   "cell_type": "code",
   "execution_count": null,
   "id": "33743f6a-5b27-4ff0-ba08-cdebc5169de5",
   "metadata": {},
   "outputs": [],
   "source": []
  }
 ],
 "metadata": {
  "kernelspec": {
   "display_name": "Python 3 (ipykernel)",
   "language": "python",
   "name": "python3"
  },
  "language_info": {
   "codemirror_mode": {
    "name": "ipython",
    "version": 3
   },
   "file_extension": ".py",
   "mimetype": "text/x-python",
   "name": "python",
   "nbconvert_exporter": "python",
   "pygments_lexer": "ipython3",
   "version": "3.13.2"
  }
 },
 "nbformat": 4,
 "nbformat_minor": 5
}
