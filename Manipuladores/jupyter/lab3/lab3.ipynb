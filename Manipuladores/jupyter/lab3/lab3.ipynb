{
 "cells": [
  {
   "cell_type": "markdown",
   "id": "4763aa0c-baa3-49b5-8f2a-1a4365676e97",
   "metadata": {
    "tags": []
   },
   "source": [
    "# Lab 3: Inverse dynamics control\n",
    "\n",
    "<div style=\"color: red;\">\n",
    "\n",
    "Pendientes lab3:\n",
    "\n",
    "1. tbd\n",
    "    \n",
    "</div>"
   ]
  },
  {
   "cell_type": "code",
   "execution_count": 2,
   "id": "0acc849e-7c29-4be5-af8a-38266b43f02e",
   "metadata": {},
   "outputs": [
    {
     "data": {
      "text/plain": [
       "2.400000000000002"
      ]
     },
     "execution_count": 2,
     "metadata": {},
     "output_type": "execute_result"
    }
   ],
   "source": [
    "7.25+3.50+2.60+3.00+1.90+5+0.90+4.50\n",
    "31.05-28.65"
   ]
  },
  {
   "cell_type": "markdown",
   "id": "f13e83cd-9c99-4a79-9649-d5d7e496d3f2",
   "metadata": {
    "tags": []
   },
   "source": [
    "# Simulate the robot dynamics"
   ]
  },
  {
   "cell_type": "markdown",
   "id": "ffb6af62-df14-4e1e-9312-d6ead1ab7b2c",
   "metadata": {},
   "source": [
    "## Questions\n",
    "\n",
    "### Question 3.1: Gravity compensation\n",
    "\n",
    "- What is the behavior of the robot when you apply virtual forces to the EE? Use videos and/or plots to support your answer."
   ]
  },
  {
   "cell_type": "markdown",
   "id": "a15eca0c-c774-4a0d-9cfe-89e5254f63ed",
   "metadata": {},
   "source": [
    "### Answer 3.1\n",
    "\n",
    "1. El sistema equivale a un doble integrador, que es críticamente inestable, así que cualquier perturbación lo desestabiliza"
   ]
  },
  {
   "cell_type": "code",
   "execution_count": 1,
   "id": "6e64e26a-abf1-4aab-b102-cf345ef99e83",
   "metadata": {},
   "outputs": [
    {
     "data": {
      "text/html": [
       "<video width=\"640\" height=\"360\" controls>\n",
       "  <source src=\"control_compensar_gravedad.mp4\" type=\"video/mp4\">\n",
       "  Your browser does not support the video tag.\n",
       "</video>\n"
      ],
      "text/plain": [
       "<IPython.core.display.HTML object>"
      ]
     },
     "metadata": {},
     "output_type": "display_data"
    }
   ],
   "source": [
    "%%html\n",
    "<video width=\"640\" height=\"360\" controls>\n",
    "  <source src=\"control_compensar_gravedad.mp4\" type=\"video/mp4\">\n",
    "  Your browser does not support the video tag.\n",
    "</video>"
   ]
  },
  {
   "cell_type": "markdown",
   "id": "d61004e7-c8cc-4165-905c-1fbbf70a1b58",
   "metadata": {},
   "source": [
    "2. Diseñamos el sistema equivalente en Matlab para evaluar su comportamiento:\n",
    "\n",
    "![Gravity BA](lab3gravityBA.jpg)\n",
    "\n",
    "3. Cuando no hay fuerzas externas el sistema se mantiene constante, pero al añadir una fuerza a alguna articulación (escalón que empieza en t=2 segundos) el sistema se desestabiliza y tarda casi un minuto en volver al equilibrio:\n",
    "\n",
    "![Gravity BA](lab3gravityBAstep.jpg)\n",
    "\n",
    "4. Para estabilizar el sistema, podemos añadir un controlador PD en un bucle cerrado (ver pág 20 del tema):\n",
    "\n",
    "\n",
    "![Gravity BC](lab3gravityBC.jpg)\n",
    "\n",
    "5. En este caso el tiempo para estabilizar el sistema se reduce drásticamente:\n",
    "\n",
    "![Gravity BC](lab3gravityBCstep.jpg)\n"
   ]
  },
  {
   "cell_type": "markdown",
   "id": "f95b884d-b732-40d6-a639-fc65fb34ae33",
   "metadata": {},
   "source": [
    "### Question 3.2: Linearization by inverse dynamics control\n",
    "\n",
    "- What happens if the compensation dynamics model is not exactly the same as the manipulator dynamics?\n",
    "   1. Try to change the masses m1, m2 and lengths l1, l2 of the links in the dynamics_params.yaml (gravity_compensation) file. What are the effects of having incorrent dynamics parameters when launching the gravity compensation controller?\n",
    "   2. Try the same for the dynamics cancellation. In this case, you can also change the parameters b1 and b2. What are the effects when launching the dynamics cancellation controller?\n",
    "\n",
    "- What is the behavior of the robot under the inverse dynamics controller when you apply virtual forces to the EE? Use videos and/or plots to support your answer."
   ]
  },
  {
   "cell_type": "markdown",
   "id": "72449e2e-37aa-4275-bb3b-386ddaff7df9",
   "metadata": {},
   "source": [
    "### Answer 3.2a\n",
    "\n",
    "1. En el caso de la compensación de gravedad, si se cambia cualquiera de los parámetros que dependen de la matriz de inercia M (m1, m2, l1, l2), el compensador genera una fuerza distinta de la que ejerce la gravedad, y el sistema se desestabiliza completamente. Por ejemplo, cambiando 10 gramos en la masa de m1:\n",
    "\n",
    "```yaml\n",
    "uma_arm_dynamics:\n",
    "  ros__parameters:\n",
    "    frequency: 1000.0\n",
    "    m1: 2.99\n",
    "    m2: 2.0\n",
    "    l1: 1.0\n",
    "    l2: 0.6\n",
    "    b1: 5.0\n",
    "    b2: 5.0\n",
    "    g: 9.81\n",
    "    q0: [0.785398, -0.785398]\n",
    "```\n",
    "El sistema se mueve inicialmente muy despacio pero paulatinamente adquiere velocidad\n",
    "\n",
    "2. En el caso de la compensación dinámica, pasa lo mismo si se cambia cualquier parámetro de la matriz de inercia (el sistema se vuelve inestable). Sin embargo, al cambiar la viscosidad (que no interviene en la matriz de inercia), la compensación que hace falta para equilibrar el sistema se calcula inicialmente mal, pero a medida que el brazo cambia de posición la fuerza que ejerce el compensador acaba equiparándose a la fuerza que ejerce la gravedad y el sistema se estabiliza y el manipulador se detiene.\n",
    "\n",
    "Cambiando b1=b2=8 el resultado sería el siguiente"
   ]
  },
  {
   "cell_type": "code",
   "execution_count": 1,
   "id": "360d81ca-90d4-4fbb-9bd1-8b9cc9fbec28",
   "metadata": {},
   "outputs": [
    {
     "data": {
      "text/html": [
       "<video width=\"640\" height=\"360\" controls>\n",
       "  <source src=\"control_dinámico_b1_b2_8.mp4\" type=\"video/mp4\">\n",
       "  Your browser does not support the video tag.\n",
       "</video>\n"
      ],
      "text/plain": [
       "<IPython.core.display.HTML object>"
      ]
     },
     "metadata": {},
     "output_type": "display_data"
    }
   ],
   "source": [
    "%%html\n",
    "<video width=\"640\" height=\"360\" controls>\n",
    "  <source src=\"control_dinámico_b1_b2_8.mp4\" type=\"video/mp4\">\n",
    "  Your browser does not support the video tag.\n",
    "</video>"
   ]
  },
  {
   "cell_type": "markdown",
   "id": "b4030073-b8e0-4c6f-893c-82134eeb4e80",
   "metadata": {},
   "source": [
    "### Asnwer 3.b\n",
    "\n",
    "En el caso de aplicar fuerzas externas, el sistema pierde su estabilidad como se aprecia en el video siguiente. Para estabilizar el sistema habría que añadir un controlador PD que, a partir de las consignas $\\ddot q_d$, $\\dot q_d$, $q_d$ deseadas, calcule los errores en posición y en velocidad y añada ajustes para dichos errores a la consigna de aceleración $\\ddot q_d$:\n",
    "\n"
   ]
  },
  {
   "cell_type": "code",
   "execution_count": 2,
   "id": "e7786f3e-b548-4da7-bff1-5987cd09e002",
   "metadata": {},
   "outputs": [
    {
     "data": {
      "text/html": [
       "<video width=\"640\" height=\"360\" controls>\n",
       "  <source src=\"control_dinámico_fuerzas_ext.mp4\" type=\"video/mp4\">\n",
       "  Your browser does not support the video tag.\n",
       "</video>\n"
      ],
      "text/plain": [
       "<IPython.core.display.HTML object>"
      ]
     },
     "metadata": {},
     "output_type": "display_data"
    }
   ],
   "source": [
    "%%html\n",
    "<video width=\"640\" height=\"360\" controls>\n",
    "  <source src=\"control_dinámico_fuerzas_ext.mp4\" type=\"video/mp4\">\n",
    "  Your browser does not support the video tag.\n",
    "</video>"
   ]
  },
  {
   "cell_type": "markdown",
   "id": "cbbb1a08-c8ca-4380-a64f-de5eecbb6923",
   "metadata": {},
   "source": [
    "## Gravity compensation"
   ]
  },
  {
   "cell_type": "markdown",
   "id": "cdbc35cd-9772-4b38-a7d8-31e69a9ac1c1",
   "metadata": {},
   "source": [
    "```C++\n",
    "    // Method to calculate the desired joint torques\n",
    "    Eigen::VectorXd gravity_compensation()\n",
    "    {\n",
    "        // Placeholder for calculate the commanded torques\n",
    "        // Calculate the control torque to compensate only for gravity effects: \n",
    "        //    tau = g(q)\n",
    "\n",
    "        // Initialize q1, q2, q_dot1, and q_dot2\n",
    "        double q1 = joint_positions_(0);\n",
    "        double q2 = joint_positions_(1);\n",
    "\n",
    "        // Calculate g_vect\n",
    "        Eigen::VectorXd g_vec(2);   // gravity vector        \n",
    "        g_vec << (m1_ + m2_)*l1_*g_*cos(q1) + m2_*g_*l2_*cos(q1 + q2),\n",
    "                  m2_       *l2_*g_*cos(q1+q2);\n",
    "\n",
    "        // // Calculate desired torque\n",
    "        Eigen::VectorXd torque(2);\n",
    "        torque << g_vec;\n",
    "\n",
    "        return torque; // joint_torques_ = gravity_compensation();\n",
    "    }\n",
    "```"
   ]
  },
  {
   "cell_type": "markdown",
   "id": "b7c0a7d5-26d5-441e-a233-51352076899f",
   "metadata": {},
   "source": [
    "## Linearization by inverse dynamics control"
   ]
  },
  {
   "attachments": {
    "fed175b0-973e-4c98-8ed5-6c1781b6bcc6.png": {
     "image/png": "[encoded data removed]"
    }
   },
   "cell_type": "markdown",
   "id": "33826e13-260b-480b-9503-d01cd8068f36",
   "metadata": {},
   "source": [
    "![image.png](attachment:fed175b0-973e-4c98-8ed5-6c1781b6bcc6.png)\n"
   ]
  },
  {
   "cell_type": "markdown",
   "id": "842d14ac-2451-4461-aae6-cbd0ea2599f8",
   "metadata": {},
   "source": [
    "```C++\n",
    "// Method to calculate joint acceleration\n",
    "        Eigen::VectorXd cancel_dynamics()\n",
    "        {\n",
    "            // Initialize M, C, Fb, g_vec, and tau_ext\n",
    "            Eigen::MatrixXd M(2, 2);    // Inertia matrix\n",
    "            Eigen::VectorXd Cq_dot(2);  // Coriolis and centrifugal forces matrix\n",
    "            Eigen::MatrixXd Fb(2, 2);   // Viscous friction matrix\n",
    "            Eigen::VectorXd g_vec(2);   // gravity vector\n",
    "            \n",
    "            // Initialize q1, q2, q_dot1, and q_dot2?\n",
    "            double q1 = joint_positions_(0);\n",
    "            double q2 = joint_positions_(1);\n",
    "            double q_dot1 = joint_velocities_(0);\n",
    "            double q_dot2 = joint_velocities_(1);\n",
    "\n",
    "\n",
    "            // Calculate matrix M\n",
    "            M(0, 0) = m1_*pow(l1_, 2) + m2_*(pow(l1_, 2) + 2*l1_*l2_*cos(q2) + pow(l2_, 2));\n",
    "            M(0, 1) = m2_*(l1_*l2_*cos(q2) + pow(l2_, 2));\n",
    "            M(1, 0) = M(0, 1);\n",
    "            M(1, 1) = m2_*pow(l2_, 2);\n",
    "\n",
    "            // Calculate vector C (C is 2x1 because it already includes q_dot)\n",
    "            Cq_dot << -m2_*l1_*l2_*sin(q2)*(2*q_dot1*q_dot2 + pow(q_dot2, 2)),\n",
    "                       m2_*l1_*l2_*pow(q_dot1, 2)*sin(q2);\n",
    "\n",
    "            // Calculate Fb matrix\n",
    "            Fb << b1_, 0.0,\n",
    "                  0.0, b2_;\n",
    "\n",
    "            // Calculate g_vect\n",
    "            g_vec << (m1_ + m2_)*l1_*g_*cos(q1) + m2_*g_*l2_*cos(q1 + q2),\n",
    "                        m2_     *l2_*g_*cos(q1+q2);\n",
    "\n",
    "            // Calculate control torque using the dynamic model:             \n",
    "            // torque = M * q_ddot + C * q_dot + Fb * q_dot + g\n",
    "            Eigen::VectorXd torque(2);\n",
    "            torque << M*desired_joint_accelerations_ +  // M(q)\n",
    "                      Cq_dot + Fb*joint_velocities_ + g_vec; // n(q, qdot)\n",
    "\n",
    "            return torque; // joint_torques_ = cancel_dynamics()\n",
    "        }\n",
    "```"
   ]
  }
 ],
 "metadata": {
  "kernelspec": {
   "display_name": "Python 3 (ipykernel)",
   "language": "python",
   "name": "python3"
  },
  "language_info": {
   "codemirror_mode": {
    "name": "ipython",
    "version": 3
   },
   "file_extension": ".py",
   "mimetype": "text/x-python",
   "name": "python",
   "nbconvert_exporter": "python",
   "pygments_lexer": "ipython3",
   "version": "3.12.9"
  }
 },
 "nbformat": 4,
 "nbformat_minor": 5
}
