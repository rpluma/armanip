{
 "cells": [
  {
   "cell_type": "code",
   "execution_count": null,
   "id": "b979cbfe-a850-46c4-b5d8-5f51208d7177",
   "metadata": {},
   "outputs": [],
   "source": []
  },
  {
   "cell_type": "markdown",
   "id": "9459966f-6f1d-4a84-9b5a-2b51b718ff2a",
   "metadata": {
    "tags": []
   },
   "source": [
    "# Lab 5 Force Control\n",
    "\n",
    "<div style=\"color: red;\">\n",
    "\n",
    "Pendientes lab5:\n",
    "    \n",
    "1. En el punto 4.3 hay un símbolo raro en el diferencial\n",
    "2. Los bloques Kp y Kd son PIDs o sólo ganancias?\n",
    "        \n",
    "</div>"
   ]
  },
  {
   "cell_type": "markdown",
   "id": "b55c6729-a311-4232-ac2a-fa2fb8d266e2",
   "metadata": {},
   "source": [
    "## Questions\n",
    "\n",
    "### Question 5.1: Simulate P control\n",
    "\n",
    "**Is the proposed controller correct? Why?**\n",
    "\n",
    "1. ¿Es correcto el controlador propuesto?\n",
    "\n",
    "Observando la gráfica de la fuerza de contacto $f_e$, podemos ver que la fuerza en el\n",
    "eje X (línea amarilla) no converge a la fuerza deseada de 10 N. En su lugar, después\n",
    "de unas oscilaciones iniciales, se estabiliza en un valor negativo, aproximadamente\n",
    "alrededor de -13 N. Esto indica un error en estado estacionario algo grande y en la\n",
    "dirección opuesta a la deseada. La línea azul para el eje Y de la fuerza se mantiene en\n",
    "cero, que es la fuerza deseada en ese eje.\n",
    "\n",
    "Por lo tanto, el controlador implementado, en su configuración actual de control\n",
    "Proporcional (P), no es correcto para el propósito de alcanzar la fuerza deseada de\n",
    "[10, 0] N.\n",
    "\n",
    "2. ¿Por qué no es correcto?\n",
    "\n",
    "Un controlador proporcional como el que estamos usando (con el término\n",
    "KP·CF·(fd − fe)) como parte de la acción de control) reduce el error, pero a menudo no\n",
    "logra eliminarlo por completo, lo que resulta en un error en estado estacionario.\n",
    "\n",
    "Esto es especialmente cierto cuando hay perturbaciones constantes o un offset en el\n",
    "sistema, o cuando la ganancia proporcional no es suficiente para contrarrestar las\n",
    "dinámicas internas o las fuerzas del entorno. En este caso, la fuerza se asienta en un\n",
    "valor muy alejado del objetivo, lo que sugiere una falta de acción integral: El control P por sí solo no garantiza la eliminación del error en estado estacionario para sistemas con perturbaciones constantes o una referencia no nula. La presencia de la fuerza de contacto del entorno y la dinámica del propio robot actúan como perturbaciones que el controlador P no puede compensar completamente, resultando en ese offset constante (esta es la mejora que implementaremos en el siguiente apartado).\n"
   ]
  },
  {
   "cell_type": "markdown",
   "id": "39b80808-67f3-4bbe-ae52-d110f01014fa",
   "metadata": {},
   "source": [
    "**What is happening in the Y axis? Why?**\n",
    "\n",
    "En el eje Y, la fuerza de contacto ($f_e​(2)$, línea azul) se mantiene en 0 N durante\n",
    "toda la simulación. Esto es exactamente lo que esperamos y es un comportamiento correcto para este eje, dado el enunciado. \n",
    "\n",
    "Las razones son las siguientes:\n",
    "\n",
    "- Fuerza deseada nula: La fuerza deseada (fd) para el eje Y es 0 N (ya que fd=[10,0] N).\n",
    "    \n",
    "- Ganancia nula en CF para el eje Y: La matriz CF = [0.05 0; 0 0] tiene un cero en la posición (2,2), lo que significa que el controlador no aplica ninguna acción de control basada en la fuerza de contacto para el eje Y a través de este término CF. Si no hay un error de fuerza en Y (porque fd=0 y el robot está en una posición donde fe=0), el controlador no intenta cambiar la fuerza en esa dirección.\n",
    "\n",
    "- Ausencia de interacción/perturbaciones en Y: Si el entorno no ejerce fuerzas en Y (la \"pared\" solo interactúa en X, y la xreal tiene el mismo componente Y que la xe inicial), y no hay otras perturbaciones o fuerzas externas modeladas en el eje Y, entonces la fuerza en ese eje permanecerá en cero."
   ]
  },
  {
   "cell_type": "markdown",
   "id": "f79c4719-53fa-4c3f-84fa-2d9894798ef0",
   "metadata": {},
   "source": [
    "## Question 5.2: Simulate PI control\n",
    "\n",
    "**Does this produce any improvement in the controller? Why?**\n",
    "\n",
    "Sí, la implementación del control PI (Proporcional-Integral) con la modificación de\n",
    "CF = KF +KI·∫(⋅)dξ definitivamente produce una mejora significativa en el\n",
    "controlador de fuerza, especialmente en su capacidad para alcanzar la fuerza\n",
    "deseada de manera precisa.\n",
    "\n",
    "¿Por qué?\n",
    "\n",
    "- Eliminación del Error en Estado Estacionario: La principal ventaja de añadir\n",
    "el término integral (KI​·∫(⋅)dξ) es su capacidad para eliminar el error en estado\n",
    "estacionario. Con el control P anterior, observamos que la fuerza en el eje X\n",
    "se estabilizaba en un valor muy diferente al deseado (aproximadamente -13 N\n",
    "en lugar de 10 N). La acción integral acumula este error persistente a lo largo\n",
    "del tiempo. Mientras exista una diferencia entre la fuerza deseada y la fuerza\n",
    "real, el integrador seguirá actuando, \"empujando\" la salida del controlador\n",
    "hasta que el error sea cero. Esto permite que el robot aplique exactamente la\n",
    "fuerza deseada en el eje X (10 N).\n",
    "\n",
    "- Mayor Precisión: Al eliminar el error en estado estacionario, el control PI\n",
    "permite una mayor precisión en la aplicación de la fuerza.\n",
    "\n",
    "- Compensación de Perturbaciones: Como el enunciado lo menciona, el control PI ayuda a \"abordar las perturbaciones introducidas por xF\". El término integral puede compensar efectos que un simple control P no podría, asegurando que, a largo plazo, la fuerza real converja a la referencia a pesar de estas influencias.\n",
    "\n",
    "\n",
    "Es por ello por lo que la mejora concluye en la capacidad del controlador PI para lograr\n",
    "el objetivo fundamental del control de fuerza: alcanzar y mantener la fuerza deseada\n",
    "sin un error persistente, algo que el control P no podía garantizar por sí solo."
   ]
  },
  {
   "cell_type": "markdown",
   "id": "6bf8d8f4-f1fe-461c-92cd-9740f25413ac",
   "metadata": {},
   "source": [
    "**Can you improve it more? How?**\n",
    "\n",
    "Sí, es muy probable que el controlador pueda mejorarse aún más. Las formas de\n",
    "hacerlo dependerán de los nuevos resultados (si el PI introduce oscilaciones o sigue\n",
    "siendo lento) y de los requisitos específicos del sistema. Algunas opciones comunes\n",
    "incluyen:\n",
    "\n",
    "- Ajuste Fino de Ganancias (KF y KI): Aunque las ganancias proporcionadas\n",
    "(KF = [0.03 0; 0 0] y KI = [0.03 0; 0 0]) son un punto de partida, podrían no ser las\n",
    "óptimas. Un ajuste manual o mediante métodos de sintonización (como Ziegler-\n",
    "Nichols, o métodos basados en optimización) podría reducir el tiempo de\n",
    "establecimiento, minimizar el sobreimpulso (overshoot) si lo hubiera, y mejorar\n",
    "la respuesta transitoria general de la fuerza. Si el sistema oscila demasiado con\n",
    "el PI actual, se podría reducir KI. Si es muy lento, se podría aumentar.\n",
    "\n",
    "- Incorporar un término derivativo (Control PID): Si el sistema muestra\n",
    "oscilaciones persistentes o una respuesta muy lenta para alcanzarlas con el PI,\n",
    "añadir un término derivativo (D) convertiría el controlador en un PID\n",
    "(Proporcional-Integral-Derivativo). Un término derivativo reacciona a la tasa de\n",
    "cambio del error.\n",
    "    - ¿Cómo se implementaría? Se añadiría una rama más a la acción de\n",
    "CF: $CF = KF  + KI ∫(⋅)dξ + KD ·d(⋅)/dt$. El término $KD·d(⋅)/dt$ implicaría un\n",
    "bloque Derivative seguido de un Gain (KD) en paralelo con las ramas P\n",
    "e I, y se sumaría a las salidas de KF y KI.\n",
    "    -  Beneficios: El término D puede ayudar a amortiguar las oscilaciones,\n",
    "mejorar la estabilidad y reducir el tiempo de respuesta, ya que predice\n",
    "el error futuro basándose en su tasa de cambio.\n",
    "\n",
    "- Compensación de avance (Feedforward): Si se conoce el modelo dinámico\n",
    "del robot o del entorno con más precisión, se podría implementar una\n",
    "compensación feedforward. Esto significa que, además de la señal de control\n",
    "generada por el lazo de retroalimentación (PI), se añadiría una señal de control\n",
    "calculada directamente a partir de la fuerza deseada y el modelo del sistema.\n",
    "Esto puede acelerar la respuesta y reducir el error, ya que el controlador\n",
    "\"anticipa\"; lo que se necesita en lugar de solo reaccionar al error.\n",
    "\n",
    "- Controladores más Avanzados: Para sistemas más complejos o requisitos de\n",
    "rendimiento muy específicos, se podrían considerar otros tipos de\n",
    "controladores, como el control por impedancia (que permite que el robot se\n",
    "adapte a la rigidez del entorno), control adaptativo (que ajusta las ganancias\n",
    "automáticamente), o control predictivo (MPC). Sin embargo, esto va más allá\n",
    "de un controlador PI básico."
   ]
  },
  {
   "cell_type": "markdown",
   "id": "e2c8b16c-3392-4155-a1de-ce4d6c745c37",
   "metadata": {},
   "source": [
    "## Introduction"
   ]
  },
  {
   "cell_type": "markdown",
   "id": "6200780f-8d6b-49fc-9f98-fc75b116b497",
   "metadata": {},
   "source": [
    "In this lab we will simulate the dynamic behavior of the RR manipulator under a force control shceme with an internal position loop. As in the previous situation, the robot's dynamic behavior is linearized through the control law we used in the previous Labs\n",
    "\n",
    "In this case, the goal is to implement the force control law indicated illustrated in the following schema according to the expression:\n",
    "\n",
    "$$M_d \\ddot x_e + K_D \\dot x_e + K_P(I_3 + C_F K)x_e = K_P+C_F(Kx_r + f_d)$$"
   ]
  },
  {
   "cell_type": "markdown",
   "id": "36e0e091-0c54-4c7d-b1f9-46ff30de6136",
   "metadata": {},
   "source": [
    "## Simulate P control"
   ]
  },
  {
   "cell_type": "markdown",
   "id": "d073788d-fe7f-4eb1-9aee-75a979298515",
   "metadata": {},
   "source": [
    "Simulate in SIMULINK the dynamic behavior of the manipulator in contact with the environment using the equivalent model, assuming the contact position is\n",
    "\n",
    "- $x_r = [1.2, 0.7]$ (m)\n",
    "- $f_d = [10, 0]$ (N)"
   ]
  },
  {
   "cell_type": "markdown",
   "id": "a627b8a7-349d-4af4-bfef-ac31164bbb52",
   "metadata": {},
   "source": [
    "## Simulate PI control"
   ]
  },
  {
   "cell_type": "markdown",
   "id": "35c49741-1ca8-4bf1-b100-3509aae40111",
   "metadata": {},
   "source": [
    "With the proposed control scheme, due to disturbances introduced by $x_r$, \n",
    "the reference force may not be reached in steady state. To address this, it is proposed to convert the constant CF into a proportional-integral action:\n",
    "\n",
    "$$C_F = K_F + K_i \\int ^t (·) dx $$"
   ]
  },
  {
   "cell_type": "markdown",
   "id": "43679f2b-db1d-42a1-943a-b3d52613fcfc",
   "metadata": {},
   "source": [
    "Implement this model in SIMULINK and simulate the dynamic behavior when\n",
    "\n",
    "- $K_F = [0.03 0; 0 0]$\n",
    "- $K_I = [0.03 0, 0 0]$]"
   ]
  },
  {
   "cell_type": "markdown",
   "id": "59178cd3-ca7a-4ff5-a2c2-ddd05b65db87",
   "metadata": {},
   "source": []
  },
  {
   "cell_type": "markdown",
   "id": "a38b5d58-58b8-48bb-b6c9-796cd64556cb",
   "metadata": {},
   "source": []
  },
  {
   "cell_type": "markdown",
   "id": "95f47d42-9bc5-4969-bfb1-03d8df6c3ead",
   "metadata": {},
   "source": []
  },
  {
   "cell_type": "markdown",
   "id": "6bda0370-11a5-4451-8f78-ee6a4df6fabd",
   "metadata": {},
   "source": []
  }
 ],
 "metadata": {
  "kernelspec": {
   "display_name": "Python 3 (ipykernel)",
   "language": "python",
   "name": "python3"
  },
  "language_info": {
   "codemirror_mode": {
    "name": "ipython",
    "version": 3
   },
   "file_extension": ".py",
   "mimetype": "text/x-python",
   "name": "python",
   "nbconvert_exporter": "python",
   "pygments_lexer": "ipython3",
   "version": "3.12.9"
  }
 },
 "nbformat": 4,
 "nbformat_minor": 5
}
