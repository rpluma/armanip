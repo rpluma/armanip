{
 "cells": [
  {
   "cell_type": "markdown",
   "id": "e49887ca-ebc7-4c2e-888e-4bd9a9130e18",
   "metadata": {
    "tags": []
   },
   "source": [
    "# Lab 1: Cartesian trajectory planning"
   ]
  },
  {
   "cell_type": "markdown",
   "id": "6eddd576-d67b-4621-bc7d-b89a25ac3512",
   "metadata": {
    "tags": []
   },
   "source": [
    "## Matlab functions\n",
    "\n",
    "- cartesian_planning.m: Complete simulation of the evolution of Cartesian trajectories and orientation using Robotic Toolbox with the ABB IRB120 manipulator\n",
    "- [pr, qr]=qpinter(P1, P2, lambda): \n",
    "- P=generate_smooth_path(P0, P1, P2, tau, T, t)\n",
    "- T=zyz2tr(a): converts the rwow vector a of ZYZ Euler angles to a 4x4 homogeneous transformation\n",
    "- q=tr2q(T, m): convert a 4x4 homogeneous trasnformation to ZYZEuler angles representation\n",
    "- q=tr2q(T, m): converts homogeneous matrix T to quaternion q\n",
    "- T=q2tr(q): Convert quaternion q to 4x4 homogeneous matrix T\n",
    "- q=qqmul(q1, q2): multiply q1 and q2 quaternions\n",
    "- q2 = qinv(1): inverts quaternion q"
   ]
  },
  {
   "cell_type": "markdown",
   "id": "f494bf00-93d9-48aa-af98-17e9b378917e",
   "metadata": {
    "tags": []
   },
   "source": [
    "## Quaternion interpolation\n",
    "\n",
    "Define the quaternion interpolation function based on the Taylor method (pr, qr)=qpinter(P1, P2, lambda) that calculates the intermediate quaternion between $q_1$ (initial) and $q_2$ (final). \n",
    "\n",
    "The value $\\lambda$ must satisfy $0 \\le \\lambda \\le 1$, so that\n",
    "\n",
    "- (p1, q1) = qpinter(P1, P2, 0) and \n",
    "- (p2, q2) = qpinter(P1, P2, 1)\n",
    "\n",
    "```C\n",
    "    function [pr,qr]=qpinter(Pa,Pb,lambda)\n",
    "        % Interpolate the position (fórmula 2)\n",
    "        pr = (Pa(1:3, 4)+(Pb(1:3,4)-Pa(1:3,4)).*lambda);\n",
    "\n",
    "        % Interpolate the orientation \n",
    "        Qa = tr2q(Pa);\n",
    "        Qb = tr2q(Pb);\n",
    "        Qc = qqmul(qinv(Qa), Qb);\n",
    "        w = Qc(1);\n",
    "        v = Qc(2:4);\n",
    "        theta = 2*acos(w);\n",
    "        n = v ./ sin(theta/2);\n",
    "        lambda_theta = lambda * theta;\n",
    "        wrot = cos(lambda_theta / 2);\n",
    "        vrot = n .* sin(lambda_theta / 2);\n",
    "        qrot = [wrot vrot];\n",
    "        qr =  qqmul(Qa, qrot);    \n",
    "    end\n",
    "```"
   ]
  },
  {
   "cell_type": "markdown",
   "id": "12247c25-ebfb-46ac-a038-4bb707349c94",
   "metadata": {
    "tags": []
   },
   "source": [
    "## Smooth trajectory generation\n",
    "\n",
    "Create a MATLAB function in the format *P=generate_smooth_path(P0, P2, P2, tau, T, t)* that calculates \n",
    "the trasnformation $P$ corresponding to the movement from $P_0$ to $P_2$ via $P_1$ somoothed by the Taylor method\n",
    "\n",
    "The parameters $\\tau$ and $T$ correspond respectively to the trasnsition interval and total time used to traverse the path as shown in Figure 1, \n",
    "and $T$ indicates the time at which the location of calculated path $P$ is reached\n",
    "\n",
    "```C\n",
    "function [P, Q]=generate_smooth_path(P0, P1, P2, tau, T, t)\n",
    "    % Function that calculates the transformation \n",
    "    % (P - position, and Q - orientation) from P1 to P3 \n",
    "    % smoothing in P2 with Taylor method (quaternions)\n",
    "\n",
    "    if (t<-T || t>T)\n",
    "        % Out of allowed range\n",
    "        disp('Parameter t out of range');\n",
    "\n",
    "    elseif (t<=-tau) % First segment (lineal)\n",
    "        [P, Q] = qpinter(P0, P1, (t+T)/T);\n",
    "    \n",
    "    elseif (t>=tau) % Third segment (lineal)\n",
    "        [P, Q] = qpinter(P1, P2, t/T);\n",
    "    \n",
    "    else % Second segment (smoothing)\n",
    "\n",
    "        % time factor\n",
    "        tfactori = (tau-t)^2/(4 * tau * T);\n",
    "        tfactord = (tau+t)^2/(4 * tau * T);\n",
    "        \n",
    "        % Position interpolation\n",
    "        p0 = P0(1:3, 4);\n",
    "        p1 = P1(1:3, 4);\n",
    "        p2 = P2(1:3, 4);\n",
    "        DeltaP0 = p1 - p0;\n",
    "        DeltaP2 = p1 - p2;\n",
    "        P = p1 - tfactori .* DeltaP0 - tfactord .* DeltaP2;\n",
    "        %P = p1 + tfactor .* DeltaP1 - tfactor .* DeltaP2;\n",
    "        \n",
    "        % Orientation interpolation\n",
    "        Q0 = tr2q(P0);\n",
    "        Q1 = tr2q(P1);\n",
    "        Q2 = tr2q(P2);\n",
    "        Q01 = qqmul(qinv(Q0), Q1);\n",
    "        Q12 = qqmul(qinv(Q1), Q2);\n",
    "        w01 = Q01(1);\n",
    "        w12 = Q12(1);\n",
    "        v01 = Q01(2:4);\n",
    "        v12 = Q12(2:4);\n",
    "        theta01 = 2 * acos(w01);\n",
    "        theta12 = 2 * acos(w12);\n",
    "        n01 = v01 ./ sin(theta01/2);\n",
    "        n12 = v12 ./ sin(theta12/2);\n",
    "        thetak1 = -tfactori * theta01;\n",
    "        thetak2 = +tfactord * theta12;\n",
    "        Qk1 = [cos(thetak1/2), n01 .* sin(thetak1/2)];\n",
    "        Qk2 = [cos(thetak2/2), n12 .* sin(thetak2/2)];\n",
    "        Q = qqmul(Q1, qqmul(Qk1, Qk2));\n",
    "        \n",
    "    end\n",
    "end\n",
    "```"
   ]
  },
  {
   "cell_type": "markdown",
   "id": "a6c89dd6-c2bc-47d7-a087-cc4a2790bc77",
   "metadata": {
    "tags": []
   },
   "source": [
    "## Graphical representation\n",
    "\n",
    "![Trayectoria 3D](fig11_trayectoria.png)\n",
    "\n",
    "![Trayectoria Posición](fig12_smooth_path.jpg)\n",
    "\n",
    "![Trayectoria Orientación](fig13_orientation_trajectories.jpg)"
   ]
  },
  {
   "cell_type": "markdown",
   "id": "28a72cc9-a96d-4f15-9c80-b52814c8baf5",
   "metadata": {},
   "source": [
    "### Trayectoria con posiciones iniciales del enunciado\n",
    "\n",
    "(https://img.youtube.com/vi/49JpJ9kNpqM/0.jpg)](https://youtu.be/49JpJ9kNpqM)\n",
    "[![https://youtu.be/49JpJ9kNpqM](https://img.youtube.com/vi/49JpJ9kNpqM/0.jpg)](https://youtu.be/49JpJ9kNpqM)\n",
    "\n",
    "Se observa un cambio brusco de orientación cerca del punto intermedio; esto ocurre porque el mismo giro puede representarse con dos cuaternios distintos, uno positivo y otro negativo. Si no se tiene en cuenta en el código, el algortimo puede elegir el giro más largo en lugar del corto para cambiar la orientación cuando la velocidad angular se hace igual a cero."
   ]
  },
  {
   "cell_type": "code",
   "execution_count": 3,
   "id": "c4fd92ea-f4c1-4004-a64a-e2fd4f0aa1a2",
   "metadata": {},
   "outputs": [
    {
     "data": {
      "image/jpeg": "[encoded data removed]",
      "text/html": [
       "\n",
       "        <iframe\n",
       "            width=\"400\"\n",
       "            height=\"300\"\n",
       "            src=\"https://www.youtube.com/embed/49JpJ9kNpqM\"\n",
       "            frameborder=\"0\"\n",
       "            allowfullscreen\n",
       "            \n",
       "        ></iframe>\n",
       "        "
      ],
      "text/plain": [
       "<IPython.lib.display.YouTubeVideo at 0x16e0d1fac30>"
      ]
     },
     "execution_count": 3,
     "metadata": {},
     "output_type": "execute_result"
    }
   ],
   "source": [
    "from IPython.display import YouTubeVideo\n",
    "\n",
    "# Embedding the \"Never Gonna Give You Up\" music video\n",
    "YouTubeVideo('49JpJ9kNpqM')"
   ]
  },
  {
   "cell_type": "markdown",
   "id": "d6835c11-3432-4993-8a95-80a4cc3d91d1",
   "metadata": {},
   "source": [
    "### Trayectoria con posiciones iniciales distintas al enunciado\n",
    "\n",
    "Se observa el mismo comportamiento que en el caso anterior: en el punto intermedio el efector final cambia bruscamente de posición cuando la velocidad angular se iguala a cero."
   ]
  },
  {
   "cell_type": "code",
   "execution_count": 4,
   "id": "fcb78c6d-463f-4f73-813a-fbea3795ad3b",
   "metadata": {},
   "outputs": [
    {
     "data": {
      "image/jpeg": "[encoded data removed]",
      "text/html": [
       "\n",
       "        <iframe\n",
       "            width=\"400\"\n",
       "            height=\"300\"\n",
       "            src=\"https://www.youtube.com/embed/BhRcVxbt7wU\"\n",
       "            frameborder=\"0\"\n",
       "            allowfullscreen\n",
       "            \n",
       "        ></iframe>\n",
       "        "
      ],
      "text/plain": [
       "<IPython.lib.display.YouTubeVideo at 0x16e0e70fb90>"
      ]
     },
     "execution_count": 4,
     "metadata": {},
     "output_type": "execute_result"
    }
   ],
   "source": [
    "from IPython.display import YouTubeVideo\n",
    "YouTubeVideo('BhRcVxbt7wU')"
   ]
  },
  {
   "cell_type": "code",
   "execution_count": null,
   "id": "81144ec0-15cc-4de2-8460-6f23203316f3",
   "metadata": {},
   "outputs": [],
   "source": []
  }
 ],
 "metadata": {
  "kernelspec": {
   "display_name": "Python 3 (ipykernel)",
   "language": "python",
   "name": "python3"
  },
  "language_info": {
   "codemirror_mode": {
    "name": "ipython",
    "version": 3
   },
   "file_extension": ".py",
   "mimetype": "text/x-python",
   "name": "python",
   "nbconvert_exporter": "python",
   "pygments_lexer": "ipython3",
   "version": "3.12.9"
  }
 },
 "nbformat": 4,
 "nbformat_minor": 5
}
